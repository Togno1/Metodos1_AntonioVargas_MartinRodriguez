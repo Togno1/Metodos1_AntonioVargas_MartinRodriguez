{
 "cells": [
  {
   "cell_type": "code",
   "execution_count": 11,
   "id": "9e1c4c24",
   "metadata": {},
   "outputs": [],
   "source": [
    "import numpy as np"
   ]
  },
  {
   "cell_type": "code",
   "execution_count": 12,
   "id": "fd783fca",
   "metadata": {},
   "outputs": [],
   "source": [
    "c_o_s = [-1,1]"
   ]
  },
  {
   "cell_type": "code",
   "execution_count": 24,
   "id": "bbee5799",
   "metadata": {},
   "outputs": [],
   "source": [
    "p_ = 0\n",
    "for i in range(100000):\n",
    "    c1 = np.random.choice(c_o_s)\n",
    "    c2 = np.random.choice(c_o_s)\n",
    "    c3 = np.random.choice(c_o_s)\n",
    "    c4 = np.random.choice(c_o_s)\n",
    "    p = c1 + c2 + c3 + c4\n",
    "    if p == 0:\n",
    "        p_ += 1"
   ]
  },
  {
   "cell_type": "code",
   "execution_count": 26,
   "id": "1a32a096",
   "metadata": {},
   "outputs": [
    {
     "data": {
      "text/plain": [
       "0.375"
      ]
     },
     "execution_count": 26,
     "metadata": {},
     "output_type": "execute_result"
    }
   ],
   "source": [
    "prob = np.round(p_/100000,3)\n",
    "prob"
   ]
  }
 ],
 "metadata": {
  "kernelspec": {
   "display_name": "Python 3",
   "language": "python",
   "name": "python3"
  },
  "language_info": {
   "codemirror_mode": {
    "name": "ipython",
    "version": 3
   },
   "file_extension": ".py",
   "mimetype": "text/x-python",
   "name": "python",
   "nbconvert_exporter": "python",
   "pygments_lexer": "ipython3",
   "version": "3.8.8"
  }
 },
 "nbformat": 4,
 "nbformat_minor": 5
}
