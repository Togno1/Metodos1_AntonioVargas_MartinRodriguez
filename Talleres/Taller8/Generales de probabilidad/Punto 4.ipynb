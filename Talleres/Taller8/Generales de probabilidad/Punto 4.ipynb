{
 "cells": [
  {
   "cell_type": "code",
   "execution_count": 204,
   "id": "f657279f",
   "metadata": {},
   "outputs": [],
   "source": [
    "import numpy as np\n",
    "import matplotlib.pyplot as plt"
   ]
  },
  {
   "cell_type": "code",
   "execution_count": 205,
   "id": "42e62dd7",
   "metadata": {},
   "outputs": [],
   "source": [
    "def p(n):\n",
    "    if 1 <= n <= 365:\n",
    "        N = 365\n",
    "        cum = 1\n",
    "        for i in range(int(n)):\n",
    "            cum *= N/365\n",
    "            N -= 1\n",
    "    else:\n",
    "        cum = 0\n",
    "    return cum"
   ]
  },
  {
   "cell_type": "code",
   "execution_count": 206,
   "id": "14337f05",
   "metadata": {},
   "outputs": [],
   "source": [
    "#Formula: ((365!)/(((365-n)!)*(365**n))"
   ]
  },
  {
   "cell_type": "code",
   "execution_count": 207,
   "id": "758dfc42",
   "metadata": {},
   "outputs": [],
   "source": [
    "N = np.linspace(1,80,80)\n",
    "prob = np.zeros((80))\n",
    "for j in range(80):\n",
    "    prob[j] = p(N[j])"
   ]
  },
  {
   "cell_type": "code",
   "execution_count": 208,
   "id": "c616e212",
   "metadata": {},
   "outputs": [
    {
     "name": "stderr",
     "output_type": "stream",
     "text": [
      "No handles with labels found to put in legend.\n"
     ]
    },
    {
     "data": {
      "text/plain": [
       "Text(0, 0.5, 'Pn')"
      ]
     },
     "execution_count": 208,
     "metadata": {},
     "output_type": "execute_result"
    },
    {
     "data": {
      "image/png": "[encoded data removed]",
      "text/plain": [
       "<Figure size 432x288 with 1 Axes>"
      ]
     },
     "metadata": {
      "needs_background": "light"
     },
     "output_type": "display_data"
    }
   ],
   "source": [
    "plt.plot(N,prob)\n",
    "plt.grid()\n",
    "plt.legend()\n",
    "plt.title(\"Probabilidad\")\n",
    "plt.xlabel(\"Personas\")\n",
    "plt.ylabel(\"Pn\")"
   ]
  }
 ],
 "metadata": {
  "kernelspec": {
   "display_name": "Python 3",
   "language": "python",
   "name": "python3"
  },
  "language_info": {
   "codemirror_mode": {
    "name": "ipython",
    "version": 3
   },
   "file_extension": ".py",
   "mimetype": "text/x-python",
   "name": "python",
   "nbconvert_exporter": "python",
   "pygments_lexer": "ipython3",
   "version": "3.8.8"
  }
 },
 "nbformat": 4,
 "nbformat_minor": 5
}
