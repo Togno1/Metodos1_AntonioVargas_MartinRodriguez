{
 "cells": [
  {
   "cell_type": "code",
   "execution_count": 1,
   "id": "4197c2a4",
   "metadata": {},
   "outputs": [],
   "source": [
    "import numpy as np"
   ]
  },
  {
   "cell_type": "code",
   "execution_count": 40,
   "id": "f842ced0",
   "metadata": {},
   "outputs": [],
   "source": [
    "b = np.array([-3,-3,8,9])\n",
    "u_1 = np.array([3,1,0,1])\n",
    "u_2 = np.array([1,2,1,1])\n",
    "u_3 = np.array([-1,0,2,-1])"
   ]
  },
  {
   "cell_type": "code",
   "execution_count": 87,
   "id": "7beb2a07",
   "metadata": {},
   "outputs": [],
   "source": [
    "A_T = np.array([u_1, u_2, u_3])\n",
    "A = A_T.T\n",
    "AT = np.dot(A.T,A)\n",
    "bT = A.T @ b"
   ]
  },
  {
   "cell_type": "code",
   "execution_count": 88,
   "id": "f83cc442",
   "metadata": {},
   "outputs": [
    {
     "data": {
      "text/plain": [
       "array([-2.0000000e+00,  3.0000000e+00,  4.0000000e+00, -4.4408921e-16])"
      ]
     },
     "execution_count": 88,
     "metadata": {},
     "output_type": "execute_result"
    }
   ],
   "source": [
    "xsol = np.linalg.solve(AT,bT)\n",
    "P = np.dot(A,xsol)\n",
    "P"
   ]
  },
  {
   "cell_type": "code",
   "execution_count": 89,
   "id": "0c5cbe16",
   "metadata": {},
   "outputs": [
    {
     "name": "stdout",
     "output_type": "stream",
     "text": [
      "La proyección obtenida usando mínimos cuadrados matriciales es [-2.0000000e+00  3.0000000e+00  4.0000000e+00 -4.4408921e-16]\n"
     ]
    }
   ],
   "source": [
    "print(\"La proyección obtenida usando mínimos cuadrados matriciales es \" + str(P))"
   ]
  },
  {
   "cell_type": "code",
   "execution_count": 110,
   "id": "87a3239c",
   "metadata": {},
   "outputs": [],
   "source": [
    "A = np.array([[3,1,0,1], [1,2,1,1], [-1,0,2,-1]])"
   ]
  },
  {
   "cell_type": "code",
   "execution_count": 111,
   "id": "317327e5",
   "metadata": {},
   "outputs": [],
   "source": [
    "v_1 = A[0]/np.linalg.norm(A[0])\n",
    "v_2 = A[1] - (np.dot(A[1],v_1)/(np.linalg.norm(v_1)**2))*v_1\n",
    "v_2 = v_2/np.linalg.norm(v_2)\n",
    "v_3 = A[2] - (np.dot(A[2],v_1)/(np.linalg.norm(v_1)**2))*v_1 - (np.dot(A[2],v_2)/(np.linalg.norm(v_2)**2))*v_2\n",
    "v_3 = v_3/np.linalg.norm(v_3)"
   ]
  },
  {
   "cell_type": "code",
   "execution_count": 112,
   "id": "4a375070",
   "metadata": {},
   "outputs": [],
   "source": [
    "c_1 = np.dot(b,v_1)\n",
    "c_2 = np.dot(b,v_2)\n",
    "c_3 = np.dot(b,v_3)"
   ]
  },
  {
   "cell_type": "code",
   "execution_count": 113,
   "id": "3c2329c5",
   "metadata": {},
   "outputs": [
    {
     "name": "stdout",
     "output_type": "stream",
     "text": [
      "La proyección obtenida usando el método de Grand-Schmidt es [-2.00000000e+00  3.00000000e+00  4.00000000e+00  2.22044605e-16]\n"
     ]
    }
   ],
   "source": [
    "P = (c_1*v_1 + c_2*v_2 + c_3*v_3)\n",
    "print(\"La proyección obtenida usando el método de Grand-Schmidt es \" + str(P))"
   ]
  }
 ],
 "metadata": {
  "kernelspec": {
   "display_name": "Python 3",
   "language": "python",
   "name": "python3"
  },
  "language_info": {
   "codemirror_mode": {
    "name": "ipython",
    "version": 3
   },
   "file_extension": ".py",
   "mimetype": "text/x-python",
   "name": "python",
   "nbconvert_exporter": "python",
   "pygments_lexer": "ipython3",
   "version": "3.8.8"
  }
 },
 "nbformat": 4,
 "nbformat_minor": 5
}
