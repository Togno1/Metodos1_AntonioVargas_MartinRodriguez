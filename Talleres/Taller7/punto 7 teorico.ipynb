{
 "cells": [
  {
   "cell_type": "code",
   "execution_count": 106,
   "id": "d2867c23",
   "metadata": {},
   "outputs": [],
   "source": [
    "import numpy as np\n",
    "import matplotlib.pyplot as plt\n",
    "import pandas as pd"
   ]
  },
  {
   "cell_type": "code",
   "execution_count": null,
   "id": "f9e9c5bd",
   "metadata": {},
   "outputs": [],
   "source": []
  },
  {
   "cell_type": "code",
   "execution_count": null,
   "id": "5a9acc00",
   "metadata": {},
   "outputs": [],
   "source": []
  },
  {
   "cell_type": "code",
   "execution_count": null,
   "id": "1c808aa9",
   "metadata": {},
   "outputs": [],
   "source": []
  },
  {
   "cell_type": "code",
   "execution_count": 107,
   "id": "cba7df66",
   "metadata": {},
   "outputs": [],
   "source": [
    "link=\"https://raw.githubusercontent.com/asegura4488/Database/main/MetodosComputacionalesReforma/Sigmoid.csv\"\n",
    "data=pd.read_csv(link)\n",
    "\n"
   ]
  },
  {
   "cell_type": "code",
   "execution_count": 108,
   "id": "1ba5091d",
   "metadata": {},
   "outputs": [],
   "source": [
    "x=data[\"x\"]\n",
    "tam=len(data[\"x\"])\n",
    "x=np.zeros(tam)\n",
    "y=np.zeros(tam)\n",
    "for d in range (tam):\n",
    "    x[d]=data[\"x\"][d]\n",
    "    y[d]=data[\"y\"][d]\n",
    "    "
   ]
  },
  {
   "cell_type": "code",
   "execution_count": 109,
   "id": "9f40188e",
   "metadata": {},
   "outputs": [],
   "source": [
    "#Defina el modelo de ajuste como:\n",
    "M=lambda x,teta:  teta[0]/(teta[1]+np.exp(-teta[2]*x))"
   ]
  },
  {
   "cell_type": "code",
   "execution_count": 110,
   "id": "d1f6dd7d",
   "metadata": {},
   "outputs": [],
   "source": [
    "#b) Defina la m´etrica (funci´on de costo) a minimizar como:\n",
    "C= lambda y,x,teta: np.sum((y-M(x,teta))**2)\n",
    "def C (p,x,y):\n",
    "    term= y-M(x,p)\n",
    "    return np.sum(term**2)"
   ]
  },
  {
   "cell_type": "code",
   "execution_count": 111,
   "id": "50a5c464",
   "metadata": {},
   "outputs": [
    {
     "name": "stdout",
     "output_type": "stream",
     "text": [
      "[1 1 1]\n"
     ]
    }
   ],
   "source": [
    "'''\n",
    "e)Use una taza de aprendizaje γ = 1 × 10−3 o γ = 5 × 10−4\n",
    ",\n",
    "~θ0 = [1, 1, 1], un error de\n",
    "parada \u000f = 0.01 y un m´aximo de iteraciones de 1 × 104\n",
    ".\n",
    "'''\n",
    "\n",
    "\n",
    "\n",
    "teta=np.array([1,1,1])\n",
    "print(teta)\n",
    "\n",
    "def GetGrad(M,teta,x,h=1e-6):\n",
    "    \n",
    "    dim=len(teta)\n",
    "    J = np.zeros(dim)\n",
    "    \n",
    "    for i in range(dim):#que recorra la cantidad de tamaño de teta \n",
    "        h_=np.zeros(dim)\n",
    "        \n",
    "        h_[i]=h\n",
    "           \n",
    "        J[i] = (  M(x,teta+h_) - M(x,teta-h_) )/(2*h)\n",
    "            \n",
    "            \n",
    "        \n",
    "    return J\n",
    "\n"
   ]
  },
  {
   "cell_type": "code",
   "execution_count": 112,
   "id": "36535dea",
   "metadata": {},
   "outputs": [
    {
     "data": {
      "text/plain": [
       "array([ 0.59694146, -0.3563391 ,  0.0944935 ])"
      ]
     },
     "execution_count": 112,
     "metadata": {},
     "output_type": "execute_result"
    }
   ],
   "source": [
    "GetGrad (M,teta,x[1])"
   ]
  },
  {
   "cell_type": "code",
   "execution_count": null,
   "id": "17696742",
   "metadata": {},
   "outputs": [],
   "source": []
  },
  {
   "cell_type": "code",
   "execution_count": 113,
   "id": "6286ef3b",
   "metadata": {},
   "outputs": [
    {
     "name": "stdout",
     "output_type": "stream",
     "text": [
      "entrenando\n",
      "se alcanzó iteraciones maximas [4.35688153 0.96529913 2.79303678]\n",
      "parametros:  [4.35688153 0.96529913 2.79303678]\n"
     ]
    }
   ],
   "source": [
    "def DescGrad(M,teta,x,y,lr=1e-3,epochs=int(1e4),error=1e-2):\n",
    "    d=1\n",
    "    i=0  \n",
    "    print(\"entrenando\")\n",
    "    \n",
    "    while d > error and i < epochs:\n",
    "        Cu = C(teta,x,y)\n",
    "        S=0\n",
    "        #Machine Learning\n",
    "        for a in range(len(y)):\n",
    "            S += (y[a]-M(x[a],teta))*GetGrad(M,teta,x[a])\n",
    "        \n",
    "            \n",
    "        teta = teta - lr*(-2)*S\n",
    "        NewMe = C(teta,x,y)\n",
    "        d= np.abs(Cu-NewMe)/NewMe\n",
    "        d=np.sqrt(NewMe/len(y))\n",
    "        \n",
    "            \n",
    "        i += 1\n",
    "        \n",
    "    if d < error:\n",
    "        print('entrenamiento completo ', teta, 'iteraciones: ', i)\n",
    "        \n",
    "    if i == epochs:\n",
    "        print('se alcanzó iteraciones maximas',teta)\n",
    "        \n",
    "    return teta,i\n",
    "\n",
    "\n",
    "par,num_it=DescGrad(M,teta,x,y)\n",
    "print(\"parametros: \",par)\n"
   ]
  },
  {
   "cell_type": "code",
   "execution_count": 114,
   "id": "f2dc5f4f",
   "metadata": {},
   "outputs": [
    {
     "data": {
      "image/png": "[encoded data removed]",
      "text/plain": [
       "<Figure size 432x288 with 1 Axes>"
      ]
     },
     "metadata": {
      "needs_background": "light"
     },
     "output_type": "display_data"
    }
   ],
   "source": [
    "X=np.linspace(-10,10,120)\n",
    "plt.scatter(x,y)\n",
    "plt.plot(X,M(X,par),color=\"r\")\n",
    "plt.show()"
   ]
  },
  {
   "cell_type": "code",
   "execution_count": null,
   "id": "ea4c9368",
   "metadata": {},
   "outputs": [],
   "source": []
  }
 ],
 "metadata": {
  "kernelspec": {
   "display_name": "Python 3",
   "language": "python",
   "name": "python3"
  },
  "language_info": {
   "codemirror_mode": {
    "name": "ipython",
    "version": 3
   },
   "file_extension": ".py",
   "mimetype": "text/x-python",
   "name": "python",
   "nbconvert_exporter": "python",
   "pygments_lexer": "ipython3",
   "version": "3.8.8"
  }
 },
 "nbformat": 4,
 "nbformat_minor": 5
}
