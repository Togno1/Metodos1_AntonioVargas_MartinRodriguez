{
 "cells": [
  {
   "cell_type": "code",
   "execution_count": 1,
   "id": "d6efd728",
   "metadata": {},
   "outputs": [],
   "source": [
    "%matplotlib notebook\n",
    "import numpy as np\n",
    "import matplotlib.pyplot as plt"
   ]
  },
  {
   "cell_type": "code",
   "execution_count": null,
   "id": "5a4603ba",
   "metadata": {},
   "outputs": [],
   "source": [
    "angulo = np.linspace(0, 2*np.pi)\n",
    "nx = [1,2,3,4,5]\n",
    "A = 1\n",
    "wx = 1\n",
    "wy = 1\n",
    "nsides = 5\n",
    "desfase = np.linspace(0, np.pi/4, np.pi/2)\n",
    "wx*t = nx*angulo"
   ]
  }
 ],
 "metadata": {
  "kernelspec": {
   "display_name": "Python 3",
   "language": "python",
   "name": "python3"
  },
  "language_info": {
   "codemirror_mode": {
    "name": "ipython",
    "version": 3
   },
   "file_extension": ".py",
   "mimetype": "text/x-python",
   "name": "python",
   "nbconvert_exporter": "python",
   "pygments_lexer": "ipython3",
   "version": "3.8.8"
  }
 },
 "nbformat": 4,
 "nbformat_minor": 5
}
