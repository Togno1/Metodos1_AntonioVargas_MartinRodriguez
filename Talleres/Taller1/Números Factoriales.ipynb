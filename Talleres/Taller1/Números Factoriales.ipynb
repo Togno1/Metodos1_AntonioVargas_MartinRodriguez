{
 "cells": [
  {
   "cell_type": "code",
   "execution_count": 15,
   "id": "7aa616a0",
   "metadata": {},
   "outputs": [],
   "source": [
    "def Factorial(n):\n",
    "    r = 1\n",
    "    i = n\n",
    "    if n == 0:\n",
    "        n = 1\n",
    "    if n > 0:\n",
    "        while i > 0:\n",
    "            r = r*i\n",
    "            i = i-1\n",
    "    return r"
   ]
  },
  {
   "cell_type": "code",
   "execution_count": 26,
   "id": "5fb9fb6e",
   "metadata": {},
   "outputs": [],
   "source": [
    "def corridoF (M):\n",
    "    for i in range(M):\n",
    "        f=Factorial(i)\n",
    "        print(str(i)+\":\"+str(f))"
   ]
  },
  {
   "cell_type": "code",
   "execution_count": 30,
   "id": "9086f94d",
   "metadata": {},
   "outputs": [
    {
     "name": "stdout",
     "output_type": "stream",
     "text": [
      "0:1\n",
      "1:1\n",
      "2:2\n",
      "3:6\n",
      "4:24\n",
      "5:120\n",
      "6:720\n",
      "7:5040\n",
      "8:40320\n",
      "9:362880\n",
      "10:3628800\n",
      "11:39916800\n",
      "12:479001600\n",
      "13:6227020800\n",
      "14:87178291200\n",
      "15:1307674368000\n",
      "16:20922789888000\n",
      "17:355687428096000\n",
      "18:6402373705728000\n",
      "19:121645100408832000\n"
     ]
    }
   ],
   "source": [
    "corridoF(20)"
   ]
  },
  {
   "cell_type": "code",
   "execution_count": 35,
   "id": "a83fa8dc",
   "metadata": {},
   "outputs": [],
   "source": [
    "def Variaciones(n,r):\n",
    "    V = Factorial(n)/Factorial(n-r)\n",
    "    return int(V)"
   ]
  },
  {
   "cell_type": "code",
   "execution_count": 36,
   "id": "e8480d84",
   "metadata": {},
   "outputs": [
    {
     "data": {
      "text/plain": [
       "120"
      ]
     },
     "execution_count": 36,
     "metadata": {},
     "output_type": "execute_result"
    }
   ],
   "source": [
    "Variaciones(6,3)"
   ]
  },
  {
   "cell_type": "code",
   "execution_count": 37,
   "id": "09ae0c16",
   "metadata": {},
   "outputs": [],
   "source": [
    "def Combinaciones(n,m):\n",
    "    C = Factorial(n)/(Factorial(m)*Factorial(n-m))\n",
    "    return int(C)"
   ]
  },
  {
   "cell_type": "code",
   "execution_count": 38,
   "id": "a59a734f",
   "metadata": {},
   "outputs": [
    {
     "data": {
      "text/plain": [
       "705432"
      ]
     },
     "execution_count": 38,
     "metadata": {},
     "output_type": "execute_result"
    }
   ],
   "source": [
    "Combinaciones(22,11)"
   ]
  },
  {
   "cell_type": "code",
   "execution_count": 40,
   "id": "6b236a56",
   "metadata": {},
   "outputs": [
    {
     "data": {
      "text/plain": [
       "352716"
      ]
     },
     "execution_count": 40,
     "metadata": {},
     "output_type": "execute_result"
    }
   ],
   "source": [
    "Combinaciones(21,10)"
   ]
  }
 ],
 "metadata": {
  "kernelspec": {
   "display_name": "Python 3",
   "language": "python",
   "name": "python3"
  },
  "language_info": {
   "codemirror_mode": {
    "name": "ipython",
    "version": 3
   },
   "file_extension": ".py",
   "mimetype": "text/x-python",
   "name": "python",
   "nbconvert_exporter": "python",
   "pygments_lexer": "ipython3",
   "version": "3.8.8"
  }
 },
 "nbformat": 4,
 "nbformat_minor": 5
}
