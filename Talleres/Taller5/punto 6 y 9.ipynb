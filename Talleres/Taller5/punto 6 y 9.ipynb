{
 "cells": [
  {
   "cell_type": "code",
   "execution_count": 2,
   "id": "f2cc1a97",
   "metadata": {},
   "outputs": [],
   "source": [
    "import numpy as np\n",
    "import matplotlib.pyplot as plt\n",
    "from numpy.random import uniform as unif\n"
   ]
  },
  {
   "cell_type": "markdown",
   "id": "df73d45e",
   "metadata": {},
   "source": [
    "# PUNTO 6"
   ]
  },
  {
   "cell_type": "code",
   "execution_count": 12,
   "id": "1baee4fc",
   "metadata": {},
   "outputs": [
    {
     "data": {
      "text/plain": [
       "[<matplotlib.lines.Line2D at 0x2cf55bde640>]"
      ]
     },
     "execution_count": 12,
     "metadata": {},
     "output_type": "execute_result"
    },
    {
     "data": {
      "image/png": "[encoded data removed]",
      "text/plain": [
       "<Figure size 432x288 with 1 Axes>"
      ]
     },
     "metadata": {},
     "output_type": "display_data"
    }
   ],
   "source": [
    "n = int(1e4)\n",
    "x = np.random.rand(n+30)\n",
    "def c_k(k,x):\n",
    "  n = int(1e4)\n",
    "  x_i = (x)[0:n]\n",
    "\n",
    "  x_ik = (x)[k:(n+k)]\n",
    "  return (1/n)*np.sum(x_i*x_ik)\n",
    "\n",
    "k = np.linspace(1,30,30,dtype=int)\n",
    "points = []\n",
    "for i in k:\n",
    "  points.append(c_k(i,x))\n",
    "plt.style.use(\"seaborn-whitegrid\")\n",
    "plt.ylabel('c(K)')\n",
    "plt.xlabel('K-esimo vecino')\n",
    "plt.ylim((0.20,0.30))\n",
    "plt.plot(k,points)"
   ]
  },
  {
   "cell_type": "code",
   "execution_count": 14,
   "id": "beda7e47",
   "metadata": {},
   "outputs": [
    {
     "data": {
      "text/plain": [
       "array([0.80669561, 0.50138129, 0.56456679, ..., 0.15049368, 0.52530525,\n",
       "       0.41912069])"
      ]
     },
     "execution_count": 14,
     "metadata": {},
     "output_type": "execute_result"
    }
   ],
   "source": [
    "k=1\n",
    "n = int(1e4)\n",
    "x_i = (x)[0:n]\n",
    "\n",
    "x_ik = (x)[k:(n+k)]\n",
    "x_i\n",
    "\n"
   ]
  },
  {
   "cell_type": "markdown",
   "id": "44e59e08",
   "metadata": {},
   "source": [
    "# PUNTO 9"
   ]
  },
  {
   "cell_type": "markdown",
   "id": "1673588b",
   "metadata": {},
   "source": [
    "$$\n",
    "\\int_{0}^{1}...\\int_{0}^{1} 2^{-7} (\\sum_{8}^{i=1} x_{i})^{2} dx_{1}dx_{2}... dx_{8}\n",
    "$$"
   ]
  },
  {
   "cell_type": "code",
   "execution_count": 111,
   "id": "0be765a3",
   "metadata": {},
   "outputs": [],
   "source": [
    "f= lambda x1,x2,x3,x4,x5,x6,x7,x8: (2**-7)*((x1+x2+x3+x4+x5+x6+x7+x8)**2)\n"
   ]
  },
  {
   "cell_type": "markdown",
   "id": "75e4638a",
   "metadata": {},
   "source": [
    "### usamos la función\n"
   ]
  },
  {
   "cell_type": "markdown",
   "id": "e31b848e",
   "metadata": {},
   "source": [
    "$$\n",
    "\\int_{V_{d}}^{} f(x) dV_{d} =\\frac{(a-b)^{n}}{N} \\cdot \\sum_{i=1}^{N} f(x_{1},x_{2},x_{3}...x_{n})\n",
    "$$"
   ]
  },
  {
   "cell_type": "markdown",
   "id": "1521fcbd",
   "metadata": {},
   "source": [
    "#### donde\n",
    "n= número de dimensiones     \n",
    "N= número de puntos random\n",
    "\n",
    "$$\n",
    "dV_{d}= dx_{1}dx_{2}dx_{3}dx_{4}.... dx_{n}\n",
    "$$"
   ]
  },
  {
   "cell_type": "code",
   "execution_count": 213,
   "id": "8864a3d0",
   "metadata": {},
   "outputs": [],
   "source": [
    "def montecarlo_8_1 (f,a=0,b=1,N=100): #a inferior, b superior, N cantidad, \n",
    "  \n",
    "   \n",
    "    x1=np.random.uniform(a,b,N)\n",
    "    x2=np.random.uniform(a,b,N)\n",
    "    x3=np.random.uniform(a,b,N)\n",
    "    x4=np.random.uniform(a,b,N)\n",
    "    x5=np.random.uniform(a,b,N)\n",
    "    x6=np.random.uniform(a,b,N)\n",
    "    x7=np.random.uniform(a,b,N)\n",
    "    x8=np.random.uniform(a,b,N)\n",
    "    \n",
    "    \n",
    "    pro=((b-a)**8)/N \n",
    "\n",
    "    s=0  \n",
    "    \n",
    "    for i in range (N): # de 0 a n-1        \n",
    "        s+=f(x1[i],x2[i],x3[i],x4[i],x5[i],x6[i],x7[i],x8[i])\n",
    "\n",
    "        \n",
    "    print (s*pro)\n",
    "        \n",
    "        \n",
    "    \n",
    "    \n",
    "    \n",
    "    "
   ]
  },
  {
   "cell_type": "code",
   "execution_count": 215,
   "id": "8f6b8fa4",
   "metadata": {},
   "outputs": [
    {
     "name": "stdout",
     "output_type": "stream",
     "text": [
      "0.13015363019694923\n"
     ]
    }
   ],
   "source": [
    "montecarlo_8_1 (f,N=2000000)"
   ]
  },
  {
   "cell_type": "markdown",
   "id": "4b0492b8",
   "metadata": {},
   "source": [
    "## OTRA FORMA PERO CON MATRICES"
   ]
  },
  {
   "cell_type": "code",
   "execution_count": 220,
   "id": "6dae4d91",
   "metadata": {},
   "outputs": [],
   "source": [
    "def montecarlo_8_2 (a=0,b=1,N=2000000):\n",
    "\n",
    "\n",
    "    valores = np.random.uniform(a,b,(N,8))  #forma una matriz de N-filas y de 8 colubnas \n",
    "\n",
    "    integran = (2**-7)*((np.sum(valores, axis=1))**2)  #que me  sume las columnas  y luego a la 2 y luego por 2^-7\n",
    "\n",
    "    suma_de_todo = np.sum(integran)\n",
    "    rta=(((b-a)**8)/N)*suma_de_todo  #PROMEDIO \n",
    "    return rta"
   ]
  },
  {
   "cell_type": "code",
   "execution_count": 222,
   "id": "98e6266b",
   "metadata": {},
   "outputs": [
    {
     "name": "stdout",
     "output_type": "stream",
     "text": [
      "la restpusta es: 0.1302555363895163\n"
     ]
    }
   ],
   "source": [
    "rta=montecarlo_8_2 (0,1)\n",
    "print(\"la restpusta es: \"+str(rta))"
   ]
  },
  {
   "cell_type": "markdown",
   "id": "034fbee2",
   "metadata": {},
   "source": [
    "- MARTIN RODRIGUEZ\n",
    "    -  ANTORNIO VARGAZ "
   ]
  }
 ],
 "metadata": {
  "kernelspec": {
   "display_name": "Python 3 (ipykernel)",
   "language": "python",
   "name": "python3"
  },
  "language_info": {
   "codemirror_mode": {
    "name": "ipython",
    "version": 3
   },
   "file_extension": ".py",
   "mimetype": "text/x-python",
   "name": "python",
   "nbconvert_exporter": "python",
   "pygments_lexer": "ipython3",
   "version": "3.9.12"
  }
 },
 "nbformat": 4,
 "nbformat_minor": 5
}
