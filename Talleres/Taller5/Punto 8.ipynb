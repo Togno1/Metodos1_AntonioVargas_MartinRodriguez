{
 "cells": [
  {
   "cell_type": "code",
   "execution_count": 111,
   "id": "f16e5d45",
   "metadata": {},
   "outputs": [],
   "source": [
    "import numpy as np\n",
    "from scipy import integrate"
   ]
  },
  {
   "cell_type": "code",
   "execution_count": 112,
   "id": "d5e0a23b",
   "metadata": {},
   "outputs": [],
   "source": [
    "N = 1000\n",
    "x = np.random.uniform(0,1,N)\n",
    "y = np.random.uniform(0,max_,N)"
   ]
  },
  {
   "cell_type": "code",
   "execution_count": 113,
   "id": "f6af0d26",
   "metadata": {},
   "outputs": [
    {
     "data": {
      "text/plain": [
       "(0.9999999999999999, 2.220446049250313e-16)"
      ]
     },
     "execution_count": 113,
     "metadata": {},
     "output_type": "execute_result"
    }
   ],
   "source": [
    "integrate.quadrature(func,0,1)"
   ]
  },
  {
   "cell_type": "code",
   "execution_count": 114,
   "id": "bb8ca86b",
   "metadata": {},
   "outputs": [],
   "source": [
    "def g(n):\n",
    "    return np.math.factorial(n-1)"
   ]
  },
  {
   "cell_type": "code",
   "execution_count": 115,
   "id": "5bb701a7",
   "metadata": {},
   "outputs": [],
   "source": [
    "def func(x,a=2,b=4):\n",
    "    x_ = g(a+b)\n",
    "    y_ = g(a)*g(b)\n",
    "    e_ = x**(a-1)\n",
    "    f_ = (1-x)**(b-1)\n",
    "    return (x_/y_)*e_*f_"
   ]
  },
  {
   "cell_type": "code",
   "execution_count": 116,
   "id": "8000a35c",
   "metadata": {},
   "outputs": [
    {
     "data": {
      "text/plain": [
       "2.1093742611884316"
      ]
     },
     "execution_count": 116,
     "metadata": {},
     "output_type": "execute_result"
    }
   ],
   "source": [
    "max_ = max(func(x,2,4))\n",
    "max_"
   ]
  },
  {
   "cell_type": "code",
   "execution_count": 117,
   "id": "4af12517",
   "metadata": {},
   "outputs": [],
   "source": [
    "def Area(a=2,b=4):\n",
    "    l = 0\n",
    "    for i in range(N):\n",
    "        f = func(x[i],a,b)\n",
    "        if y[i] < f:\n",
    "            l +=1\n",
    "    return (l/N)*max_"
   ]
  },
  {
   "cell_type": "code",
   "execution_count": 118,
   "id": "ce2834d4",
   "metadata": {},
   "outputs": [
    {
     "data": {
      "text/plain": [
       "0.9956246512809397"
      ]
     },
     "execution_count": 118,
     "metadata": {},
     "output_type": "execute_result"
    }
   ],
   "source": [
    "z = Area()\n",
    "z"
   ]
  },
  {
   "cell_type": "code",
   "execution_count": 119,
   "id": "750c77cc",
   "metadata": {},
   "outputs": [],
   "source": [
    "real = 0.9999999999999999"
   ]
  },
  {
   "cell_type": "code",
   "execution_count": 120,
   "id": "ad80d193",
   "metadata": {},
   "outputs": [
    {
     "data": {
      "text/plain": [
       "0.43753487190602025"
      ]
     },
     "execution_count": 120,
     "metadata": {},
     "output_type": "execute_result"
    }
   ],
   "source": [
    "error = (np.abs(z-real)/real)*100\n",
    "error"
   ]
  }
 ],
 "metadata": {
  "kernelspec": {
   "display_name": "Python 3",
   "language": "python",
   "name": "python3"
  },
  "language_info": {
   "codemirror_mode": {
    "name": "ipython",
    "version": 3
   },
   "file_extension": ".py",
   "mimetype": "text/x-python",
   "name": "python",
   "nbconvert_exporter": "python",
   "pygments_lexer": "ipython3",
   "version": "3.8.8"
  }
 },
 "nbformat": 4,
 "nbformat_minor": 5
}
