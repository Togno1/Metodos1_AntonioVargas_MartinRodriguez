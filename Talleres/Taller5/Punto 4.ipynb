{
 "cells": [
  {
   "cell_type": "code",
   "execution_count": 1,
   "id": "3820025a",
   "metadata": {},
   "outputs": [],
   "source": [
    "import numpy as np\n",
    "import matplotlib.pyplot as plt"
   ]
  },
  {
   "cell_type": "code",
   "execution_count": 2,
   "id": "1f7c6a2f",
   "metadata": {},
   "outputs": [],
   "source": [
    "x = np.random.rand(10000)"
   ]
  },
  {
   "cell_type": "code",
   "execution_count": 3,
   "id": "fdaec3c4",
   "metadata": {},
   "outputs": [
    {
     "name": "stdout",
     "output_type": "stream",
     "text": [
      "[0.19243701 0.62506581 0.68934512 ... 0.78614795 0.14880156 0.70361646]\n"
     ]
    }
   ],
   "source": [
    "print(x)"
   ]
  },
  {
   "cell_type": "code",
   "execution_count": 22,
   "id": "c87d479b",
   "metadata": {},
   "outputs": [],
   "source": [
    "def C(x):\n",
    "    k = 30\n",
    "    y = np.array([])\n",
    "    for i in range(1,k+1):\n",
    "        x_ = 0\n",
    "        for j in range(1,len(x)-k):\n",
    "            x_ += np.sum(x[j]*x[j+i])\n",
    "        y = np.append(y,x_)\n",
    "    return y/10000"
   ]
  },
  {
   "cell_type": "code",
   "execution_count": 23,
   "id": "e281b3e7",
   "metadata": {},
   "outputs": [
    {
     "data": {
      "image/png": "[encoded data removed]",
      "text/plain": [
       "<Figure size 432x288 with 1 Axes>"
      ]
     },
     "metadata": {
      "needs_background": "light"
     },
     "output_type": "display_data"
    }
   ],
   "source": [
    "plt.plot(C(x))\n",
    "plt.ylim(0.2,0.3)\n",
    "plt.grid()\n",
    "plt.show()"
   ]
  }
 ],
 "metadata": {
  "kernelspec": {
   "display_name": "Python 3",
   "language": "python",
   "name": "python3"
  },
  "language_info": {
   "codemirror_mode": {
    "name": "ipython",
    "version": 3
   },
   "file_extension": ".py",
   "mimetype": "text/x-python",
   "name": "python",
   "nbconvert_exporter": "python",
   "pygments_lexer": "ipython3",
   "version": "3.8.8"
  }
 },
 "nbformat": 4,
 "nbformat_minor": 5
}
