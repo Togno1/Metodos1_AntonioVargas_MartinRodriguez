{
 "cells": [
  {
   "cell_type": "code",
   "execution_count": 40,
   "id": "be8cc864-be2c-4836-baf4-c33cc107ef26",
   "metadata": {},
   "outputs": [],
   "source": [
    "import numpy as np\n",
    "import matplotlib.pylab as plt\n",
    "import sympy as sp\n",
    "import math"
   ]
  },
  {
   "cell_type": "code",
   "execution_count": 41,
   "id": "5d235639-ea48-4426-abb9-ba865ffea78b",
   "metadata": {},
   "outputs": [],
   "source": [
    "x=np.linspace(-1.88,1,200)\n",
    "h=x[1]-x[0]\n",
    "\n",
    "c=2\n",
    "h = lambda x: ((3*x**5)+(5*x**4)-x**3)\n",
    "graf=h(x)\n",
    "derivada_1 =  lambda x: ((15*x**4)+(20*x**3)-(3*x**2))\n",
    "\n",
    "\n",
    "\n"
   ]
  },
  {
   "cell_type": "markdown",
   "id": "856a2df3-20b0-4796-99d6-32be40b70248",
   "metadata": {},
   "source": [
    "#GRAFICO LA FUNCIÓN DE LA PARTE 3 "
   ]
  },
  {
   "cell_type": "code",
   "execution_count": 42,
   "id": "315057d1-3378-4c26-8623-d306d16cb5b9",
   "metadata": {},
   "outputs": [
    {
     "data": {
      "image/png": "[encoded data removed]",
      "text/plain": [
       "<Figure size 432x288 with 1 Axes>"
      ]
     },
     "metadata": {
      "needs_background": "light"
     },
     "output_type": "display_data"
    }
   ],
   "source": [
    "plt.figure()\n",
    "plt.plot(x,graf)\n",
    "#plt.plot(x,derivada_1(x))\n",
    "plt.plot([-2,2.5],[0,0],\"k\") #eje x \n",
    "plt.plot([0,0],[-5,12],\"k\") #eje y\n",
    "plt.show()\n",
    "\n",
    "\n",
    "\n"
   ]
  },
  {
   "cell_type": "markdown",
   "id": "cb688e44-dce2-4bd4-b114-84820b527d08",
   "metadata": {},
   "source": [
    "#HAGO LA FUNCIÓN DE NEWTON - RAPHSNO \n"
   ]
  },
  {
   "cell_type": "code",
   "execution_count": 137,
   "id": "344bfe05-a325-4664-9a17-d45f8fcee7da",
   "metadata": {},
   "outputs": [],
   "source": []
  },
  {
   "cell_type": "code",
   "execution_count": null,
   "id": "cb0c960b-1349-4bf2-adf5-6e3692eebc02",
   "metadata": {},
   "outputs": [],
   "source": []
  },
  {
   "cell_type": "code",
   "execution_count": 272,
   "id": "144b6e2b-dede-4c92-aebf-db29404e1e93",
   "metadata": {},
   "outputs": [],
   "source": [
    "def Newton (x0,tol,n,F):#punto inicial, tolerancia,numero de iteraciones , funcion\n",
    "    if F==1: \n",
    "        return 0\n",
    "    \n",
    "    x= sp.symbols('x') \n",
    "    f=F\n",
    "\n",
    "    df=sp.diff(f)\n",
    "    f=sp.lambdify (x,f)\n",
    "    df=sp.lambdify(x,df)\n",
    "    for k in range (n):\n",
    "        \n",
    "        \n",
    "        \n",
    "        x1=x0-f(x0)/df(x0) \n",
    "        if (abs(x1-x0)<tol): \n",
    "            print(\"iteración \",k+1,'=',x1,end='')  #el k+a es el numero de la iteración \n",
    "            print('es una aproximación de la raiz') \n",
    "            return\n",
    "        x0=x1\n",
    "        \n",
    "\n",
    "\n"
   ]
  },
  {
   "cell_type": "code",
   "execution_count": 273,
   "id": "34b5ef47-d237-4cff-8052-b54574522dfb",
   "metadata": {},
   "outputs": [
    {
     "name": "stdout",
     "output_type": "stream",
     "text": [
      "iteración  15 = 0.1804604233700507es una aproximación de la raiz\n"
     ]
    }
   ],
   "source": [
    "f=(3*x**5)+(5*x**4)-x**3\n",
    "solution_a = Newton(2.5,0.0001,99,f) \n",
    "solution_a\n"
   ]
  },
  {
   "cell_type": "code",
   "execution_count": null,
   "id": "4e3f65fd-9f69-4c12-9aaf-dd032a53f4cb",
   "metadata": {},
   "outputs": [],
   "source": []
  },
  {
   "cell_type": "code",
   "execution_count": null,
   "id": "40ae7802-4320-4d54-9a6d-e4cbfdf8765c",
   "metadata": {},
   "outputs": [],
   "source": []
  },
  {
   "cell_type": "code",
   "execution_count": 274,
   "id": "0200eabc-06d8-4eaa-8a94-19888475f4bc",
   "metadata": {},
   "outputs": [],
   "source": [
    "#sacar la raiz a los primeros 20 polinomios de lagrange \n"
   ]
  },
  {
   "cell_type": "code",
   "execution_count": null,
   "id": "361318bd-2835-43bc-8b4c-b388e3b8b6be",
   "metadata": {},
   "outputs": [],
   "source": [
    "\n"
   ]
  },
  {
   "cell_type": "code",
   "execution_count": 275,
   "id": "7c331bc2-7570-454e-a955-8210d71cbfb3",
   "metadata": {},
   "outputs": [
    {
     "data": {
      "text/latex": [
       "$\\displaystyle \\frac{262144 x^{20} + 24903680 x^{18} \\left(x^{2} - 1\\right) + 476282880 x^{16} \\left(x^{2} - 1\\right)^{2} + 3175219200 x^{14} \\left(x^{2} - 1\\right)^{3} + 9029529600 x^{12} \\left(x^{2} - 1\\right)^{4} + 11918979072 x^{10} \\left(x^{2} - 1\\right)^{5} + 7449361920 x^{8} \\left(x^{2} - 1\\right)^{6} + 2128389120 x^{6} \\left(x^{2} - 1\\right)^{7} + 249420600 x^{4} \\left(x^{2} - 1\\right)^{8} + 9237800 x^{2} \\left(x^{2} - 1\\right)^{9} + 46189 \\left(x^{2} - 1\\right)^{10}}{262144}$"
      ],
      "text/plain": [
       "(262144*x**20 + 24903680*x**18*(x**2 - 1) + 476282880*x**16*(x**2 - 1)**2 + 3175219200*x**14*(x**2 - 1)**3 + 9029529600*x**12*(x**2 - 1)**4 + 11918979072*x**10*(x**2 - 1)**5 + 7449361920*x**8*(x**2 - 1)**6 + 2128389120*x**6*(x**2 - 1)**7 + 249420600*x**4*(x**2 - 1)**8 + 9237800*x**2*(x**2 - 1)**9 + 46189*(x**2 - 1)**10)/262144"
      ]
     },
     "execution_count": 275,
     "metadata": {},
     "output_type": "execute_result"
    }
   ],
   "source": [
    "GetLegendre(20)"
   ]
  },
  {
   "cell_type": "code",
   "execution_count": 276,
   "id": "bdc11678-f914-4845-8456-0d4426c77045",
   "metadata": {},
   "outputs": [],
   "source": [
    "Legendre = []\n",
    "\n",
    "n=7\n",
    "for i in range(n+1):\n",
    "    Legendre.append(GetLegendre(i))"
   ]
  },
  {
   "cell_type": "code",
   "execution_count": 277,
   "id": "2ce66e18-7950-4a8e-a842-1b3597834aa2",
   "metadata": {},
   "outputs": [],
   "source": [
    "def GetLaguerre(n):\n",
    "    \n",
    "    x = sp.Symbol('x',Real=True)\n",
    "    y = sp.Symbol('y',Real=True)\n",
    "    \n",
    "    y = sp.exp(-x)*x**n\n",
    "    \n",
    "    p = sp.exp(x)*sp.diff(y,x,n)/(np.math.factorial(n))\n",
    "    \n",
    "    return p"
   ]
  },
  {
   "cell_type": "code",
   "execution_count": 278,
   "id": "ce4d91c5-183d-4342-ab2b-e04b17c5072d",
   "metadata": {},
   "outputs": [],
   "source": [
    "Laguerre = []\n",
    "\n",
    "n=20\n",
    "for i in range(n+1):\n",
    "    Laguerre.append(GetLaguerre(i))"
   ]
  },
  {
   "cell_type": "code",
   "execution_count": 279,
   "id": "cb51db86-61f4-43b1-9c4e-aa3b18ae1667",
   "metadata": {},
   "outputs": [
    {
     "data": {
      "text/plain": [
       "[1,\n",
       " (-x*exp(-x) + exp(-x))*exp(x),\n",
       " x**2/2 - 2*x + 1,\n",
       " -x**3/6 + 3*x**2/2 - 3*x + 1,\n",
       " x**4/24 - 2*x**3/3 + 3*x**2 - 4*x + 1,\n",
       " -x**5/120 + 5*x**4/24 - 5*x**3/3 + 5*x**2 - 5*x + 1,\n",
       " x**6/720 - x**5/20 + 5*x**4/8 - 10*x**3/3 + 15*x**2/2 - 6*x + 1,\n",
       " -x**7/5040 + 7*x**6/720 - 7*x**5/40 + 35*x**4/24 - 35*x**3/6 + 21*x**2/2 - 7*x + 1,\n",
       " x**8/40320 - x**7/630 + 7*x**6/180 - 7*x**5/15 + 35*x**4/12 - 28*x**3/3 + 14*x**2 - 8*x + 1,\n",
       " -x**9/362880 + x**8/4480 - x**7/140 + 7*x**6/60 - 21*x**5/20 + 21*x**4/4 - 14*x**3 + 18*x**2 - 9*x + 1,\n",
       " x**10/3628800 - x**9/36288 + x**8/896 - x**7/42 + 7*x**6/24 - 21*x**5/10 + 35*x**4/4 - 20*x**3 + 45*x**2/2 - 10*x + 1,\n",
       " -x**11/39916800 + 11*x**10/3628800 - 11*x**9/72576 + 11*x**8/2688 - 11*x**7/168 + 77*x**6/120 - 77*x**5/20 + 55*x**4/4 - 55*x**3/2 + 55*x**2/2 - 11*x + 1,\n",
       " x**12/479001600 - x**11/3326400 + 11*x**10/604800 - 11*x**9/18144 + 11*x**8/896 - 11*x**7/70 + 77*x**6/60 - 33*x**5/5 + 165*x**4/8 - 110*x**3/3 + 33*x**2 - 12*x + 1,\n",
       " -x**13/6227020800 + 13*x**12/479001600 - 13*x**11/6652800 + 143*x**10/1814400 - 143*x**9/72576 + 143*x**8/4480 - 143*x**7/420 + 143*x**6/60 - 429*x**5/40 + 715*x**4/24 - 143*x**3/3 + 39*x**2 - 13*x + 1,\n",
       " x**14/87178291200 - x**13/444787200 + 13*x**12/68428800 - 13*x**11/1425600 + 143*x**10/518400 - 143*x**9/25920 + 143*x**8/1920 - 143*x**7/210 + 1001*x**6/240 - 1001*x**5/60 + 1001*x**4/24 - 182*x**3/3 + 91*x**2/2 - 14*x + 1,\n",
       " -x**15/1307674368000 + x**14/5811886080 - x**13/59304960 + 13*x**12/13685760 - 13*x**11/380160 + 143*x**10/172800 - 143*x**9/10368 + 143*x**8/896 - 143*x**7/112 + 1001*x**6/144 - 1001*x**5/40 + 455*x**4/8 - 455*x**3/6 + 105*x**2/2 - 15*x + 1,\n",
       " x**16/20922789888000 - x**15/81729648000 + x**14/726485760 - x**13/11119680 + 13*x**12/3421440 - 13*x**11/118800 + 143*x**10/64800 - 143*x**9/4536 + 143*x**8/448 - 143*x**7/63 + 1001*x**6/90 - 182*x**5/5 + 455*x**4/6 - 280*x**3/3 + 60*x**2 - 16*x + 1,\n",
       " -x**17/355687428096000 + 17*x**16/20922789888000 - 17*x**15/163459296000 + 17*x**14/2179457280 - 17*x**13/44478720 + 221*x**12/17107200 - 221*x**11/712800 + 2431*x**10/453600 - 2431*x**9/36288 + 2431*x**8/4032 - 2431*x**7/630 + 1547*x**6/90 - 1547*x**5/30 + 595*x**4/6 - 340*x**3/3 + 68*x**2 - 17*x + 1,\n",
       " x**18/6402373705728000 - x**17/19760412672000 + 17*x**16/2324754432000 - 17*x**15/27243216000 + 17*x**14/484323840 - 17*x**13/12355200 + 221*x**12/5702400 - 221*x**11/277200 + 2431*x**10/201600 - 2431*x**9/18144 + 2431*x**8/2240 - 221*x**7/35 + 1547*x**6/60 - 357*x**5/5 + 255*x**4/2 - 136*x**3 + 153*x**2/2 - 18*x + 1,\n",
       " -x**19/121645100408832000 + 19*x**18/6402373705728000 - 19*x**17/39520825344000 + 323*x**16/6974263296000 - 323*x**15/108972864000 + 323*x**14/2421619200 - 323*x**13/74131200 + 4199*x**12/39916800 - 4199*x**11/2217600 + 46189*x**10/1814400 - 46189*x**9/181440 + 4199*x**8/2240 - 4199*x**7/420 + 2261*x**6/60 - 969*x**5/10 + 323*x**4/2 - 323*x**3/2 + 171*x**2/2 - 19*x + 1,\n",
       " x**20/2432902008176640000 - x**19/6082255020441600 + 19*x**18/640237370572800 - 19*x**17/5928123801600 + 323*x**16/1394852659200 - 323*x**15/27243216000 + 323*x**14/726485760 - 323*x**13/25945920 + 4199*x**12/15966720 - 4199*x**11/997920 + 46189*x**10/907200 - 4199*x**9/9072 + 4199*x**8/1344 - 323*x**7/21 + 323*x**6/6 - 646*x**5/5 + 1615*x**4/8 - 190*x**3 + 95*x**2 - 20*x + 1]"
      ]
     },
     "execution_count": 279,
     "metadata": {},
     "output_type": "execute_result"
    }
   ],
   "source": [
    "Laguerre  #pimeros 20 polinomios"
   ]
  },
  {
   "cell_type": "code",
   "execution_count": 280,
   "id": "5c1e03ee-7721-4859-9d0d-6a5629f1d459",
   "metadata": {},
   "outputs": [],
   "source": [
    "#calrulo de las raices\n",
    " #Newton (x0,tol,n,F):#punto inicial, tolerancia,numero de iteraciones , funcion, "
   ]
  },
  {
   "cell_type": "code",
   "execution_count": 287,
   "id": "cf5fa40e-492e-4b2a-8077-394976e37d74",
   "metadata": {},
   "outputs": [
    {
     "name": "stdout",
     "output_type": "stream",
     "text": [
      "para el polinomio 0 0\n",
      "iteración  2 = 1.0es una aproximación de la raiz\n",
      "para el polinomio 1 None\n",
      "iteración  4 = 0.5857864373873366es una aproximación de la raiz\n",
      "para el polinomio 2 None\n",
      "iteración  7 = 0.41577455678295977es una aproximación de la raiz\n",
      "para el polinomio 3 None\n",
      "iteración  5 = 1.7457611011583694es una aproximación de la raiz\n",
      "para el polinomio 4 None\n",
      "iteración  4 = 1.4134030591065168es una aproximación de la raiz\n",
      "para el polinomio 5 None\n",
      "iteración  3 = 1.1889321016726222es una aproximación de la raiz\n",
      "para el polinomio 6 None\n",
      "iteración  3 = 1.0266648953391926es una aproximación de la raiz\n",
      "para el polinomio 7 None\n",
      "iteración  3 = 0.9037017767746897es una aproximación de la raiz\n",
      "para el polinomio 8 None\n",
      "iteración  4 = 0.8072200227276543es una aproximación de la raiz\n",
      "para el polinomio 9 None\n",
      "iteración  4 = 0.1377934663006184es una aproximación de la raiz\n",
      "para el polinomio 10 None\n",
      "iteración  23 = 0.12579643326751203es una aproximación de la raiz\n",
      "para el polinomio 11 None\n",
      "iteración  6 = 0.6117574845151303es una aproximación de la raiz\n",
      "para el polinomio 12 None\n",
      "iteración  4 = 1.3985643364514875es una aproximación de la raiz\n",
      "para el polinomio 13 None\n",
      "iteración  3 = 1.3006291212779706es una aproximación de la raiz\n",
      "para el polinomio 14 None\n",
      "iteración  3 = 1.2155954120710966es una aproximación de la raiz\n",
      "para el polinomio 15 None\n",
      "iteración  2 = 1.1410577749500426es una aproximación de la raiz\n",
      "para el polinomio 16 None\n",
      "iteración  3 = 1.07517657751144es una aproximación de la raiz\n",
      "para el polinomio 17 None\n",
      "iteración  3 = 1.0165201796235857es una aproximación de la raiz\n",
      "para el polinomio 18 None\n",
      "iteración  4 = 0.963957343997953es una aproximación de la raiz\n",
      "para el polinomio 19 None\n",
      "iteración  4 = 0.9165821024832328es una aproximación de la raiz\n",
      "para el polinomio 20 None\n"
     ]
    }
   ],
   "source": [
    "mart=0\n",
    "for expe in Laguerre: \n",
    "\n",
    "    s=Newton (1.12341234,0.00012,200,expe)\n",
    "    print(\"para el polinomio\",mart,s)\n",
    "    mart+=1"
   ]
  },
  {
   "cell_type": "code",
   "execution_count": null,
   "id": "b33d3b3b-05a1-4f1f-b580-654429eda581",
   "metadata": {},
   "outputs": [],
   "source": []
  },
  {
   "cell_type": "code",
   "execution_count": null,
   "id": "a58a06c3-1cdf-4384-82b7-c6fcc1c2bf6c",
   "metadata": {},
   "outputs": [],
   "source": []
  },
  {
   "cell_type": "code",
   "execution_count": null,
   "id": "302fda74-18b5-4bea-9c41-b8247f1e42fd",
   "metadata": {},
   "outputs": [],
   "source": []
  },
  {
   "cell_type": "code",
   "execution_count": null,
   "id": "0fce89b2-6484-4833-9cd8-36e3e32d412b",
   "metadata": {},
   "outputs": [],
   "source": []
  },
  {
   "cell_type": "code",
   "execution_count": null,
   "id": "9b703406-9029-464f-9028-0e66f0c35080",
   "metadata": {},
   "outputs": [],
   "source": []
  },
  {
   "cell_type": "code",
   "execution_count": null,
   "id": "990238db-95b1-4924-a4e2-160b66fe4cd1",
   "metadata": {},
   "outputs": [],
   "source": []
  },
  {
   "cell_type": "code",
   "execution_count": null,
   "id": "275f5716-7288-4d7a-9fbb-09a566aeae7c",
   "metadata": {},
   "outputs": [],
   "source": []
  },
  {
   "cell_type": "code",
   "execution_count": null,
   "id": "b79421c6-3466-457d-93cf-3142739f2005",
   "metadata": {},
   "outputs": [],
   "source": []
  },
  {
   "cell_type": "code",
   "execution_count": null,
   "id": "10e50931-a2ba-4e6b-8c12-7137d8f78130",
   "metadata": {},
   "outputs": [],
   "source": []
  },
  {
   "cell_type": "code",
   "execution_count": null,
   "id": "74652c18-85fe-48d6-b019-c2fc996143b9",
   "metadata": {},
   "outputs": [],
   "source": []
  },
  {
   "cell_type": "code",
   "execution_count": null,
   "id": "c27b7190-4eeb-43c3-8ba8-916bcd69ce29",
   "metadata": {},
   "outputs": [],
   "source": []
  },
  {
   "cell_type": "code",
   "execution_count": null,
   "id": "b8aae120-95ec-45f0-8aaa-3fc0d12a5061",
   "metadata": {},
   "outputs": [],
   "source": []
  },
  {
   "cell_type": "code",
   "execution_count": null,
   "id": "b06f4955-5b2f-44e4-9e6c-d92444decf61",
   "metadata": {},
   "outputs": [],
   "source": []
  },
  {
   "cell_type": "code",
   "execution_count": null,
   "id": "99923114-4872-4cb4-a326-4a67ef0c6185",
   "metadata": {},
   "outputs": [],
   "source": []
  },
  {
   "cell_type": "code",
   "execution_count": null,
   "id": "e305c21f-a62e-4f12-8a53-6c5c3d81e186",
   "metadata": {},
   "outputs": [],
   "source": []
  },
  {
   "cell_type": "code",
   "execution_count": null,
   "id": "45bfba59-7d05-4f7d-a7ac-af15cb9dda88",
   "metadata": {},
   "outputs": [],
   "source": []
  },
  {
   "cell_type": "code",
   "execution_count": null,
   "id": "5a209694-92f1-4549-ae92-34e0d83fb56b",
   "metadata": {},
   "outputs": [],
   "source": []
  },
  {
   "cell_type": "code",
   "execution_count": null,
   "id": "d21051a5-a41e-41a5-9136-48d90cc2bffe",
   "metadata": {},
   "outputs": [],
   "source": []
  },
  {
   "cell_type": "code",
   "execution_count": null,
   "id": "b04ffd1c-ed5a-4a36-a76b-1b6e7f610156",
   "metadata": {},
   "outputs": [],
   "source": []
  },
  {
   "cell_type": "code",
   "execution_count": null,
   "id": "112eab81-d1e9-4102-b943-10d4c4ec6a26",
   "metadata": {},
   "outputs": [],
   "source": []
  },
  {
   "cell_type": "code",
   "execution_count": null,
   "id": "df91740d-903c-4a87-9450-b5238b08cdce",
   "metadata": {},
   "outputs": [],
   "source": []
  },
  {
   "cell_type": "code",
   "execution_count": null,
   "id": "77683f0e-327c-4c42-9382-db633922e245",
   "metadata": {},
   "outputs": [],
   "source": []
  },
  {
   "cell_type": "code",
   "execution_count": null,
   "id": "c67d9d57-a3e2-4ad2-a678-632d2ceb0d81",
   "metadata": {},
   "outputs": [],
   "source": []
  },
  {
   "cell_type": "code",
   "execution_count": null,
   "id": "05892f53-0363-4787-9d29-7ac3110ed43b",
   "metadata": {},
   "outputs": [],
   "source": []
  },
  {
   "cell_type": "code",
   "execution_count": null,
   "id": "f3b59bee-0271-4de7-a6d9-8cf3fc57eba1",
   "metadata": {},
   "outputs": [],
   "source": []
  },
  {
   "cell_type": "code",
   "execution_count": null,
   "id": "f7b4ac57-3521-4fe5-9ace-fd3b45958ebb",
   "metadata": {},
   "outputs": [],
   "source": []
  },
  {
   "cell_type": "code",
   "execution_count": null,
   "id": "e2637801-6a4a-49cf-8af0-1ffec8837211",
   "metadata": {},
   "outputs": [],
   "source": []
  },
  {
   "cell_type": "code",
   "execution_count": null,
   "id": "f506c22d-3b11-433d-a832-d2ad0d092bc7",
   "metadata": {},
   "outputs": [],
   "source": []
  },
  {
   "cell_type": "code",
   "execution_count": null,
   "id": "f7529eb9-7f5f-4c45-87ca-530583ce5549",
   "metadata": {},
   "outputs": [],
   "source": []
  },
  {
   "cell_type": "code",
   "execution_count": null,
   "id": "17b7f902-3286-48fd-9765-cb202816d6c6",
   "metadata": {},
   "outputs": [],
   "source": []
  },
  {
   "cell_type": "code",
   "execution_count": null,
   "id": "4a418b47-6b65-4880-8ec4-75a1f02a7d70",
   "metadata": {},
   "outputs": [],
   "source": []
  }
 ],
 "metadata": {
  "kernelspec": {
   "display_name": "Python 3 (ipykernel)",
   "language": "python",
   "name": "python3"
  },
  "language_info": {
   "codemirror_mode": {
    "name": "ipython",
    "version": 3
   },
   "file_extension": ".py",
   "mimetype": "text/x-python",
   "name": "python",
   "nbconvert_exporter": "python",
   "pygments_lexer": "ipython3",
   "version": "3.9.12"
  }
 },
 "nbformat": 4,
 "nbformat_minor": 5
}
