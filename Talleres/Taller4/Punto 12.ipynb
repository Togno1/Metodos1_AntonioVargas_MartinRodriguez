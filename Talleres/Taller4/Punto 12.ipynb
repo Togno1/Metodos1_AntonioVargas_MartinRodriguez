{
 "cells": [
  {
   "cell_type": "code",
   "execution_count": 2,
   "id": "dcbc857c",
   "metadata": {},
   "outputs": [],
   "source": [
    "import numpy as np"
   ]
  },
  {
   "cell_type": "code",
   "execution_count": 3,
   "id": "4885586e",
   "metadata": {},
   "outputs": [],
   "source": [
    "def func(x):\n",
    "    return (1/(x**2))"
   ]
  },
  {
   "cell_type": "code",
   "execution_count": 4,
   "id": "888607f6",
   "metadata": {},
   "outputs": [],
   "source": [
    "R_1,W_1 = np.polynomial.legendre.leggauss(2)\n",
    "R_2,W_2 = np.polynomial.legendre.leggauss(3)"
   ]
  },
  {
   "cell_type": "code",
   "execution_count": 5,
   "id": "6d534eb9",
   "metadata": {},
   "outputs": [],
   "source": [
    "x1 = R_1/2 + 3/2\n",
    "x2 = R_2/2 + 3/2 "
   ]
  },
  {
   "cell_type": "code",
   "execution_count": 11,
   "id": "62da0532",
   "metadata": {},
   "outputs": [
    {
     "data": {
      "text/plain": [
       "0.497041"
      ]
     },
     "execution_count": 11,
     "metadata": {},
     "output_type": "execute_result"
    }
   ],
   "source": [
    "I_1 = (1/2)*np.sum(W_1*func(x1))\n",
    "round(I_1,6)"
   ]
  },
  {
   "cell_type": "code",
   "execution_count": 7,
   "id": "fdf1751a",
   "metadata": {},
   "outputs": [
    {
     "data": {
      "text/plain": [
       "0.499874"
      ]
     },
     "execution_count": 7,
     "metadata": {},
     "output_type": "execute_result"
    }
   ],
   "source": [
    "I_2 = (1/2)*np.sum(W_2*func(x2))\n",
    "round(I_2,6)"
   ]
  }
 ],
 "metadata": {
  "kernelspec": {
   "display_name": "Python 3",
   "language": "python",
   "name": "python3"
  },
  "language_info": {
   "codemirror_mode": {
    "name": "ipython",
    "version": 3
   },
   "file_extension": ".py",
   "mimetype": "text/x-python",
   "name": "python",
   "nbconvert_exporter": "python",
   "pygments_lexer": "ipython3",
   "version": "3.8.8"
  }
 },
 "nbformat": 4,
 "nbformat_minor": 5
}
