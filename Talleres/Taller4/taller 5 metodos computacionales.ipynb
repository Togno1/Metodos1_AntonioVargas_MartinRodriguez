{
 "cells": [
  {
   "cell_type": "code",
   "execution_count": 77,
   "id": "a67db87d-7cb6-415e-b2b2-be6df1b1f576",
   "metadata": {},
   "outputs": [],
   "source": [
    "import numpy as np\n",
    "import matplotlib.pyplot as plt\n",
    "import sympy as sym\n",
    "import sympy.printing as printing\n",
    "\n"
   ]
  },
  {
   "cell_type": "markdown",
   "id": "77323ca1-906a-4dbe-b967-3d938ca1c0b5",
   "metadata": {},
   "source": [
    "#PUNTO 8"
   ]
  },
  {
   "cell_type": "code",
   "execution_count": 78,
   "id": "0a0de0af-abd3-454f-a180-7f7bc66827ea",
   "metadata": {},
   "outputs": [],
   "source": [
    "def Cardinal(X,j,x):\n",
    "    pol = 1\n",
    "    for i in range(len(X)):\n",
    "        if i != j:\n",
    "            pol *= (x-X[i])/(X[j]-X[i])\n",
    "    return pol"
   ]
  },
  {
   "cell_type": "code",
   "execution_count": null,
   "id": "d2ba8eeb-0e5f-4dc9-8715-30950f4abe02",
   "metadata": {},
   "outputs": [],
   "source": []
  },
  {
   "cell_type": "code",
   "execution_count": 79,
   "id": "d0a255a2-82c6-4a23-9e3d-e6da48c4dd3d",
   "metadata": {},
   "outputs": [
    {
     "data": {
      "text/latex": [
       "$\\displaystyle \\frac{f(a) \\left(- b + x\\right) \\left(- \\frac{2 a}{3} - \\frac{b}{3} + x\\right) \\left(- \\frac{a}{3} - \\frac{2 b}{3} + x\\right)}{\\left(\\frac{a}{3} - \\frac{b}{3}\\right) \\left(\\frac{2 a}{3} - \\frac{2 b}{3}\\right) \\left(a - b\\right)} + \\frac{f(b) \\left(- a + x\\right) \\left(- \\frac{2 a}{3} - \\frac{b}{3} + x\\right) \\left(- \\frac{a}{3} - \\frac{2 b}{3} + x\\right)}{\\left(- a + b\\right) \\left(- \\frac{2 a}{3} + \\frac{2 b}{3}\\right) \\left(- \\frac{a}{3} + \\frac{b}{3}\\right)} + \\frac{f(x_{1}) \\left(- a + x\\right) \\left(- b + x\\right) \\left(- \\frac{a}{3} - \\frac{2 b}{3} + x\\right)}{\\left(- \\frac{a}{3} + \\frac{b}{3}\\right) \\left(\\frac{a}{3} - \\frac{b}{3}\\right) \\left(\\frac{2 a}{3} - \\frac{2 b}{3}\\right)} + \\frac{f(x_{2}) \\left(- a + x\\right) \\left(- b + x\\right) \\left(- \\frac{2 a}{3} - \\frac{b}{3} + x\\right)}{\\left(- \\frac{2 a}{3} + \\frac{2 b}{3}\\right) \\left(- \\frac{a}{3} + \\frac{b}{3}\\right) \\left(\\frac{a}{3} - \\frac{b}{3}\\right)}$"
      ],
      "text/plain": [
       "f(a)*(-b + x)*(-2*a/3 - b/3 + x)*(-a/3 - 2*b/3 + x)/((a/3 - b/3)*(2*a/3 - 2*b/3)*(a - b)) + f(b)*(-a + x)*(-2*a/3 - b/3 + x)*(-a/3 - 2*b/3 + x)/((-a + b)*(-2*a/3 + 2*b/3)*(-a/3 + b/3)) + f(x_{1})*(-a + x)*(-b + x)*(-a/3 - 2*b/3 + x)/((-a/3 + b/3)*(a/3 - b/3)*(2*a/3 - 2*b/3)) + f(x_{2})*(-a + x)*(-b + x)*(-2*a/3 - b/3 + x)/((-2*a/3 + 2*b/3)*(-a/3 + b/3)*(a/3 - b/3))"
      ]
     },
     "execution_count": 79,
     "metadata": {},
     "output_type": "execute_result"
    }
   ],
   "source": [
    "b = sym.Symbol('b')\n",
    "h = sym.Symbol('h')\n",
    "x = sym.Symbol('x')\n",
    "a = sym.Symbol('a')\n",
    "\n",
    "f_1 = sym.Symbol('f(x_{1})')\n",
    "f_2 = sym.Symbol('f(x_{2})')\n",
    "f_a = sym.Symbol('f(a)')\n",
    "f_b = sym.Symbol('f(b)')\n",
    "\n",
    "X=np.array([a,(2*a+b)/3,(a+2*b)/3,b])\n",
    "Y=np.array([f_a,f_1,f_2,f_b])\n",
    "\n",
    "\n",
    "def Interpolador(X,Y,x):\n",
    "    poly = 0\n",
    "    for i in range(len(X)):\n",
    "        base = Cardinal(X,i,x)\n",
    "        poly += base*Y[i]\n",
    "    return poly\n",
    "\n",
    "\n",
    "ecuaciones = Interpolador(X,Y,x)\n",
    "\n",
    "ecuaciones"
   ]
  },
  {
   "cell_type": "code",
   "execution_count": 80,
   "id": "072b9689-9cbc-476c-be8a-5e94678549cb",
   "metadata": {},
   "outputs": [
    {
     "data": {
      "text/latex": [
       "$\\displaystyle 0.421350396474857 \\sqrt{\\pi}$"
      ],
      "text/plain": [
       "0.421350396474857*sqrt(pi)"
      ]
     },
     "execution_count": 80,
     "metadata": {},
     "output_type": "execute_result"
    }
   ],
   "source": [
    "f = lambda x: np.e**(-x**2)\n",
    "x = sym.Symbol(\"x\", Real=True)\n",
    "a = 0.0\n",
    "b = 1.0\n",
    "n = 3\n",
    "h = (b-a)/n\n",
    "dom = np.linspace(a,b,n)\n",
    "sym.integrate(sym.exp(-x**2), (x,a,b))"
   ]
  },
  {
   "cell_type": "code",
   "execution_count": 81,
   "id": "0d22d329-f107-428b-a59e-3cd5bf68e92f",
   "metadata": {},
   "outputs": [
    {
     "data": {
      "text/plain": [
       "0.7468241328124262"
      ]
     },
     "execution_count": 81,
     "metadata": {},
     "output_type": "execute_result"
    }
   ],
   "source": [
    "valor = (0.421350396474857*np.sqrt(np.pi))\n",
    "valor"
   ]
  },
  {
   "cell_type": "code",
   "execution_count": 82,
   "id": "db527560-9eaf-40d1-85df-826e5d653b43",
   "metadata": {},
   "outputs": [],
   "source": [
    "def SimpsonIntegrate(f,a,b):\n",
    "    h = (b - a)/3\n",
    "    return (3*h/8) * (f(a) + 3*f(((2*a) + b)/3) + 3*f((a + (2*b))/3) + f(b))"
   ]
  },
  {
   "cell_type": "code",
   "execution_count": 83,
   "id": "ca65cac1-a845-4791-a8ee-1626091d7246",
   "metadata": {},
   "outputs": [],
   "source": [
    "f(a)\n",
    "\n",
    "x_m = ((2*a) + b)/3\n",
    "x_n = (a + (2*b))/3"
   ]
  },
  {
   "cell_type": "code",
   "execution_count": 84,
   "id": "9292bb96-a041-4db5-a163-db7d48719fcd",
   "metadata": {},
   "outputs": [
    {
     "data": {
      "text/plain": [
       "<matplotlib.legend.Legend at 0x1f66a4963d0>"
      ]
     },
     "execution_count": 84,
     "metadata": {},
     "output_type": "execute_result"
    },
    {
     "data": {
      "image/png": "[encoded data removed]",
      "text/plain": [
       "<Figure size 432x288 with 1 Axes>"
      ]
     },
     "metadata": {
      "needs_background": "light"
     },
     "output_type": "display_data"
    }
   ],
   "source": [
    "cdom = np.linspace(0,1,100)\n",
    "plt.plot(cdom,f(cdom), label=\"Función\",color='k')\n",
    "plt.scatter(dom,f(dom),label=\"Discretización\")\n",
    "plt.scatter(x_m,f(x_m), color=\"r\", label=\"Punto intermedio 1\")\n",
    "plt.scatter(x_n,f(x_n),color=\"y\", label=\"Punto intermedio 2\")\n",
    "plt.legend()"
   ]
  },
  {
   "cell_type": "markdown",
   "id": "40429f53-be18-4210-a62d-6b044c91b33e",
   "metadata": {},
   "source": [
    "#PUNTO 11\n",
    "\n"
   ]
  },
  {
   "cell_type": "code",
   "execution_count": null,
   "id": "a77c9824-691c-4f6b-8ab6-5855342e5171",
   "metadata": {},
   "outputs": [],
   "source": []
  },
  {
   "cell_type": "code",
   "execution_count": 85,
   "id": "9e725f2d-e454-48df-b4c1-97d1bfcd4b99",
   "metadata": {},
   "outputs": [
    {
     "data": {
      "text/plain": [
       "2.649579329907684"
      ]
     },
     "execution_count": 85,
     "metadata": {},
     "output_type": "execute_result"
    }
   ],
   "source": [
    "f = lambda x: np.sqrt(1+np.exp(-x**2))\n",
    "SimpsonIntegrate (f,-1,1)"
   ]
  },
  {
   "cell_type": "code",
   "execution_count": 86,
   "id": "632ec79b-7dd7-4e09-9e1f-b803bc1d800d",
   "metadata": {},
   "outputs": [],
   "source": [
    "dom2= np.linspace(-1,1,100)\n"
   ]
  },
  {
   "cell_type": "code",
   "execution_count": 87,
   "id": "c77655a1-bc30-4a02-af98-232edc5d6883",
   "metadata": {},
   "outputs": [
    {
     "data": {
      "text/plain": [
       "<matplotlib.legend.Legend at 0x1f669ee5bb0>"
      ]
     },
     "execution_count": 87,
     "metadata": {},
     "output_type": "execute_result"
    },
    {
     "data": {
      "image/png": "[encoded data removed]",
      "text/plain": [
       "<Figure size 432x288 with 1 Axes>"
      ]
     },
     "metadata": {
      "needs_background": "light"
     },
     "output_type": "display_data"
    }
   ],
   "source": [
    "\n",
    "plt.plot(dom2,f(dom2), label=\"Función\",color='k')\n",
    "plt.legend()"
   ]
  },
  {
   "cell_type": "markdown",
   "id": "0794a2dd-f6f4-472e-bbb6-198017bf2b64",
   "metadata": {},
   "source": [
    "#PUNTO 13 "
   ]
  },
  {
   "cell_type": "code",
   "execution_count": null,
   "id": "79fc44d1-2caa-4f62-95bd-510776b7516b",
   "metadata": {},
   "outputs": [],
   "source": []
  },
  {
   "cell_type": "code",
   "execution_count": null,
   "id": "3f970534-e7b7-4842-9707-ceac4507c765",
   "metadata": {},
   "outputs": [],
   "source": []
  },
  {
   "cell_type": "code",
   "execution_count": null,
   "id": "e8432741-8f91-47d0-b518-69d12c6e8541",
   "metadata": {},
   "outputs": [],
   "source": []
  },
  {
   "cell_type": "code",
   "execution_count": null,
   "id": "21197d8b-caeb-4c54-a33c-75d0638cf110",
   "metadata": {},
   "outputs": [],
   "source": []
  },
  {
   "cell_type": "code",
   "execution_count": null,
   "id": "c51b6bde-f2be-4dc7-aa07-3b098b7ba813",
   "metadata": {},
   "outputs": [],
   "source": []
  },
  {
   "cell_type": "code",
   "execution_count": null,
   "id": "628d227e-5d60-47c0-b108-e8bb997032ba",
   "metadata": {},
   "outputs": [],
   "source": []
  },
  {
   "cell_type": "code",
   "execution_count": null,
   "id": "a1ae5a0d-cc1e-4a74-9b85-0090e002ca9b",
   "metadata": {},
   "outputs": [],
   "source": []
  },
  {
   "cell_type": "code",
   "execution_count": null,
   "id": "9e097710-95dd-49f1-9cb9-08f4f6459db8",
   "metadata": {},
   "outputs": [],
   "source": []
  },
  {
   "cell_type": "code",
   "execution_count": null,
   "id": "279b070e-edc2-437a-9aa6-8a76bc452428",
   "metadata": {},
   "outputs": [],
   "source": []
  },
  {
   "cell_type": "code",
   "execution_count": null,
   "id": "b8cea7b7-acb6-49e4-9d80-b3e6d2e26590",
   "metadata": {},
   "outputs": [],
   "source": []
  },
  {
   "cell_type": "code",
   "execution_count": null,
   "id": "6d3653b0-1362-431d-9876-07ed439c184c",
   "metadata": {},
   "outputs": [],
   "source": []
  },
  {
   "cell_type": "code",
   "execution_count": null,
   "id": "39c07560-e55f-4e88-adac-083d50e655eb",
   "metadata": {},
   "outputs": [],
   "source": []
  },
  {
   "cell_type": "code",
   "execution_count": null,
   "id": "50586d7f-01e4-4fa4-8a68-87bf0d91fb5f",
   "metadata": {},
   "outputs": [],
   "source": []
  },
  {
   "cell_type": "code",
   "execution_count": null,
   "id": "bbf5ac6f-40b3-4f30-985f-6db80072b230",
   "metadata": {},
   "outputs": [],
   "source": []
  },
  {
   "cell_type": "code",
   "execution_count": null,
   "id": "c5d2febf-bc56-418e-9e8b-b18a475a8004",
   "metadata": {},
   "outputs": [],
   "source": []
  },
  {
   "cell_type": "code",
   "execution_count": null,
   "id": "b838e2aa-d897-4e7e-b2d7-e1a08d29979d",
   "metadata": {},
   "outputs": [],
   "source": []
  },
  {
   "cell_type": "code",
   "execution_count": null,
   "id": "027b540b-91fe-4e6b-81e8-75d859a94c0e",
   "metadata": {},
   "outputs": [],
   "source": []
  },
  {
   "cell_type": "code",
   "execution_count": null,
   "id": "5234e241-81cb-4146-ba29-ecf0b63a4d86",
   "metadata": {},
   "outputs": [],
   "source": []
  },
  {
   "cell_type": "code",
   "execution_count": null,
   "id": "8b117539-6ccf-42da-99f2-dfb950ad3dad",
   "metadata": {},
   "outputs": [],
   "source": []
  },
  {
   "cell_type": "code",
   "execution_count": null,
   "id": "a5661d5e-9f27-4283-9371-faf2db68e2d4",
   "metadata": {},
   "outputs": [],
   "source": []
  },
  {
   "cell_type": "code",
   "execution_count": null,
   "id": "470d5000-0c09-4a95-9711-06a2f8e72fee",
   "metadata": {},
   "outputs": [],
   "source": []
  },
  {
   "cell_type": "code",
   "execution_count": null,
   "id": "2160da89-5724-4d71-b5fd-eb588f208d24",
   "metadata": {},
   "outputs": [],
   "source": []
  }
 ],
 "metadata": {
  "kernelspec": {
   "display_name": "Python 3 (ipykernel)",
   "language": "python",
   "name": "python3"
  },
  "language_info": {
   "codemirror_mode": {
    "name": "ipython",
    "version": 3
   },
   "file_extension": ".py",
   "mimetype": "text/x-python",
   "name": "python",
   "nbconvert_exporter": "python",
   "pygments_lexer": "ipython3",
   "version": "3.9.12"
  }
 },
 "nbformat": 4,
 "nbformat_minor": 5
}
