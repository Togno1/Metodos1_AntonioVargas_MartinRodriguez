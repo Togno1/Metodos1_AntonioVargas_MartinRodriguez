{
 "cells": [
  {
   "cell_type": "code",
   "execution_count": 43,
   "id": "ba06edd6",
   "metadata": {},
   "outputs": [],
   "source": [
    "import matplotlib.pyplot as plt\n",
    "import numpy as np"
   ]
  },
  {
   "cell_type": "code",
   "execution_count": 44,
   "id": "f6bedcee",
   "metadata": {},
   "outputs": [],
   "source": [
    "def func(x):\n",
    "    return (np.exp(x)*(x**3))/(np.exp(x)-1)"
   ]
  },
  {
   "cell_type": "code",
   "execution_count": 54,
   "id": "40459b0a",
   "metadata": {},
   "outputs": [
    {
     "data": {
      "text/plain": [
       "6.481130171540027"
      ]
     },
     "execution_count": 54,
     "metadata": {},
     "output_type": "execute_result"
    }
   ],
   "source": [
    "R,W = np.polynomial.laguerre.laggauss(3)\n",
    "int_ = np.sum(W*func(R))\n",
    "int_"
   ]
  },
  {
   "cell_type": "code",
   "execution_count": 55,
   "id": "d315bb73",
   "metadata": {},
   "outputs": [],
   "source": [
    "E = lambda int_: 15*int_/(np.pi**4)"
   ]
  },
  {
   "cell_type": "code",
   "execution_count": 64,
   "id": "0706b239",
   "metadata": {},
   "outputs": [],
   "source": [
    "x = np.arange(2,11)\n",
    "y = np.zeros(0)"
   ]
  },
  {
   "cell_type": "code",
   "execution_count": 65,
   "id": "c53cc7aa",
   "metadata": {},
   "outputs": [],
   "source": [
    "for i in x:\n",
    "    R_,W_ = np.polynomial.laguerre.laggauss(i)\n",
    "    I_ = np.sum(W_*func(R_))\n",
    "    y = np.append(y,E(I_))"
   ]
  },
  {
   "cell_type": "code",
   "execution_count": 70,
   "id": "d6284a40",
   "metadata": {},
   "outputs": [
    {
     "data": {
      "image/png": "[encoded data removed]",
      "text/plain": [
       "<Figure size 432x288 with 1 Axes>"
      ]
     },
     "metadata": {
      "needs_background": "light"
     },
     "output_type": "display_data"
    }
   ],
   "source": [
    "plt.scatter(x,y,color=\"b\")\n",
    "plt.title(\"Laguerre quadrature acurracy\")\n",
    "plt.xlabel(\"n\")\n",
    "plt.ylabel(\"Acurracy\")\n",
    "plt.grid()\n",
    "plt.show()"
   ]
  }
 ],
 "metadata": {
  "kernelspec": {
   "display_name": "Python 3",
   "language": "python",
   "name": "python3"
  },
  "language_info": {
   "codemirror_mode": {
    "name": "ipython",
    "version": 3
   },
   "file_extension": ".py",
   "mimetype": "text/x-python",
   "name": "python",
   "nbconvert_exporter": "python",
   "pygments_lexer": "ipython3",
   "version": "3.8.8"
  }
 },
 "nbformat": 4,
 "nbformat_minor": 5
}
