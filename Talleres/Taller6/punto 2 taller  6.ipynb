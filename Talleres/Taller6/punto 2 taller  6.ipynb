{
 "cells": [
  {
   "cell_type": "markdown",
   "id": "5bc2344e",
   "metadata": {},
   "source": [
    "# punto 2 \n",
    "\n"
   ]
  },
  {
   "cell_type": "code",
   "execution_count": 1,
   "id": "da29a242",
   "metadata": {},
   "outputs": [],
   "source": [
    "import numpy as np\n",
    "import matplotlib.pyplot as plt\n",
    "import copy as copy"
   ]
  },
  {
   "cell_type": "code",
   "execution_count": 40,
   "id": "cfed8fc0",
   "metadata": {},
   "outputs": [],
   "source": [
    "\n",
    "import numpy as np\n",
    "\n",
    "M = np.array([[3,-1,-1],[-1.,3.,1.],[2,1,4]]) #ejemplo\n",
    "b = np.array([1.,3.,7.])\n",
    "\n",
    "class sistemas_lineales:\n",
    "    \n",
    "    def __init__(self,A,b):\n",
    "        self.A = A\n",
    "        self.b = b\n",
    "        self.itmax = 1000\n",
    "        self.error = 1e-10\n",
    "        \n",
    "    def jacobbi(self): #metodo1\n",
    "        M,N = self.A.shape\n",
    "        x = np.zeros(N)\n",
    "        sum_iterador = np.zeros_like(x)\n",
    "        x = [0,0,0]\n",
    "        T=0\n",
    "   \n",
    "        residuo = np.linalg.norm(self.b - np.dot(self.A,x))\n",
    "        while (residuo > self.error and T < self.itmax):\n",
    "            T += 1\n",
    "            for i in range(M):\n",
    "                sum_ = 0\n",
    "                for j in range(N):\n",
    "                    if i != j:\n",
    "                        sum_ += self.A[i][j]*x[j]\n",
    "                sum_iterador[i] = sum_\n",
    "            for i in range(M):\n",
    "                if self.A[i,i] != 0:\n",
    "                    x[i] = (self.b[i] - sum_iterador[i])/self.A[i,i]\n",
    "                else:\n",
    "                    print('No invertible con Jacobi')\n",
    "            residuo = np.linalg.norm(self.b - np.dot(self.A,x))\n",
    "        return x,T,residuo\n",
    "        \n",
    "    def Gauss(self): #GetGaußSeidlMethod\n",
    "        M,N = self.A.shape\n",
    "        x = np.zeros(N)\n",
    "        sum_iterator = np.zeros_like(x)\n",
    "        x = [0,0,0]\n",
    "        T = 0\n",
    "        residuo = np.linalg.norm(self.b - self.A@x)\n",
    "        while (residuo > self.error and T < self.itmax ):\n",
    "            T += 1\n",
    "            \n",
    "            for i in range(M):\n",
    "                sum_ = 0\n",
    "                for j in range(N):\n",
    "                    if i != j:\n",
    "                        sum_ += self.A[i][j]*x[j]\n",
    "                sum_iterator[i] = sum_\n",
    "                x[i] = (self.b[i] - sum_iterator[i])/self.A[i,i]\n",
    "            residuo = np.linalg.norm(self.b - self.A@x)\n",
    "        return x,T,residuo\n",
    "\n",
    "Vector = sistemas_lineales(M,b)\n",
    "sol1  = [round(variable,10) for variable in Vector.jacobbi()[0]]\n",
    "sol2 = [round(variable,10) for variable in Vector.Gauss()[0]]\n",
    "\n",
    "\n"
   ]
  },
  {
   "cell_type": "code",
   "execution_count": 41,
   "id": "42871945",
   "metadata": {},
   "outputs": [
    {
     "name": "stdout",
     "output_type": "stream",
     "text": [
      "usando el metodo de Jacobi la solución redondeado al décimo decimal nos dió: [1.0, 1.0, 1.0]\n",
      "usando el metodo de gauss-seidl[1.0, 1.0, 1.0]\n",
      "usandoe elmetodo Jacobi el número de iteraciones es :23 y en Gauss-Seidl es: 18\n",
      "el eror de jacobbi es : 5.690579155224868e-11\n",
      "el error en Gauss es:5.8030712832710874e-11\n"
     ]
    }
   ],
   "source": [
    "\n",
    "print (\"usando el metodo de Jacobi la solución redondeado al décimo decimal nos dió: \"+str(sol1))\n",
    "print (\"usando el metodo de gauss-seidl\"+ str ( sol2))\n",
    "print (\"usandoe elmetodo Jacobi el número de iteraciones es :\"+str(Vector.jacobbi()[1])+ \" y en Gauss-Seidl es: \"+str(Vector.Gauss()[1]))\n",
    "\n",
    "print (\"el eror de jacobbi es :\", Vector.jacobbi()[2])\n",
    "print (\"el error en Gauss es:\"+ str (Vector.Gauss()[2]))    "
   ]
  },
  {
   "cell_type": "code",
   "execution_count": null,
   "id": "ae887baf",
   "metadata": {},
   "outputs": [],
   "source": [
    "\n"
   ]
  },
  {
   "cell_type": "code",
   "execution_count": null,
   "id": "f76c5ca2",
   "metadata": {},
   "outputs": [],
   "source": [
    "\n"
   ]
  },
  {
   "cell_type": "code",
   "execution_count": null,
   "id": "fb93d22f",
   "metadata": {},
   "outputs": [],
   "source": []
  },
  {
   "cell_type": "code",
   "execution_count": null,
   "id": "8eb1ae27",
   "metadata": {},
   "outputs": [],
   "source": []
  }
 ],
 "metadata": {
  "kernelspec": {
   "display_name": "Python 3 (ipykernel)",
   "language": "python",
   "name": "python3"
  },
  "language_info": {
   "codemirror_mode": {
    "name": "ipython",
    "version": 3
   },
   "file_extension": ".py",
   "mimetype": "text/x-python",
   "name": "python",
   "nbconvert_exporter": "python",
   "pygments_lexer": "ipython3",
   "version": "3.9.12"
  }
 },
 "nbformat": 4,
 "nbformat_minor": 5
}
