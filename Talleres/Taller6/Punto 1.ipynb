{
 "cells": [
  {
   "cell_type": "code",
   "execution_count": 9,
   "id": "06433f10",
   "metadata": {},
   "outputs": [],
   "source": [
    "import numpy as np"
   ]
  },
  {
   "cell_type": "code",
   "execution_count": 10,
   "id": "b0a0f676",
   "metadata": {},
   "outputs": [
    {
     "name": "stdout",
     "output_type": "stream",
     "text": [
      "[[ 3. -1. -1.]\n",
      " [-1.  3.  1.]\n",
      " [ 2.  1.  4.]]\n",
      "[1. 3. 7.]\n"
     ]
    }
   ],
   "source": [
    "M = np.array([[3,-1,-1],[-1.,3.,1.],[2,1,4]])\n",
    "print(M)\n",
    "b = np.array([1.,3.,7.])\n",
    "print(b)"
   ]
  },
  {
   "cell_type": "code",
   "execution_count": 11,
   "id": "8861b4a2",
   "metadata": {},
   "outputs": [],
   "source": [
    "def GausSeidel(A,b,itmax=1000,error = 1e-10):\n",
    "    M,N = A.shape\n",
    "    x = np.zeros(N)\n",
    "    it = 0\n",
    "    r = np.linalg.norm(b - np.dot(A,x))\n",
    "    while ( r > error and it < itmax ):\n",
    "        it += 1\n",
    "        x_ = (1 + x[1] + x[2])/3\n",
    "        y = (3 + x_ - x[2])/3\n",
    "        z = (7 - 2*x_ - y)/4\n",
    "        x[0] = x_\n",
    "        x[1] = y\n",
    "        x[2] = z\n",
    "        r = np.linalg.norm(b - np.dot(A,x))\n",
    "    return x,r"
   ]
  },
  {
   "cell_type": "code",
   "execution_count": 12,
   "id": "a01464e6",
   "metadata": {},
   "outputs": [
    {
     "data": {
      "text/plain": [
       "(array([1., 1., 1.]), 5.8029729042420824e-11)"
      ]
     },
     "execution_count": 12,
     "metadata": {},
     "output_type": "execute_result"
    }
   ],
   "source": [
    "x,r = GausSeidel(M,b)\n",
    "x,r"
   ]
  }
 ],
 "metadata": {
  "kernelspec": {
   "display_name": "Python 3",
   "language": "python",
   "name": "python3"
  },
  "language_info": {
   "codemirror_mode": {
    "name": "ipython",
    "version": 3
   },
   "file_extension": ".py",
   "mimetype": "text/x-python",
   "name": "python",
   "nbconvert_exporter": "python",
   "pygments_lexer": "ipython3",
   "version": "3.8.8"
  }
 },
 "nbformat": 4,
 "nbformat_minor": 5
}
