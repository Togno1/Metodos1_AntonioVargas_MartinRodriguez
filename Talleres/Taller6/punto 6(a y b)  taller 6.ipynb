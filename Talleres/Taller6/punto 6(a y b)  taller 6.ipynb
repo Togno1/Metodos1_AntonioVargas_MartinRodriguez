{
 "cells": [
  {
   "cell_type": "code",
   "execution_count": 72,
   "id": "9b3fac52",
   "metadata": {},
   "outputs": [],
   "source": [
    "import numpy as np\n",
    "from inspect import signature\n",
    "\n",
    "\n"
   ]
  },
  {
   "cell_type": "code",
   "execution_count": 125,
   "id": "89c84ffd",
   "metadata": {},
   "outputs": [],
   "source": [
    "\n",
    "G=(lambda x,y: np.log(x**2+y**2)-np.sin(x*y)-np.log(2)-np.log(np.pi), \\\n",
    "   lambda x,y: np.exp(x-y)+np.cos(x*y))\n"
   ]
  },
  {
   "cell_type": "code",
   "execution_count": 129,
   "id": "aeb79a51",
   "metadata": {},
   "outputs": [],
   "source": [
    "sig = signature(G[1])\n",
    "n_parametros= len(str(sig).split(\", \"))\n",
    "n_parametros"
   ]
  },
  {
   "cell_type": "code",
   "execution_count": 141,
   "id": "d9464a26",
   "metadata": {},
   "outputs": [],
   "source": [
    "\n",
    "\n",
    "def Vector(V,r):  #GetVectorF\n",
    "\n",
    "    dim = len(V)\n",
    "    sig = signature(V[1])\n",
    "    n_parametros= len(str(sig).split(\", \"))#que me busque la cantidad de parametros de la funcion G \n",
    "    v = np.zeros(dim)\n",
    "    if n_parametros==2:  #si tiene 2 parametros\n",
    "        for i in range(dim):\n",
    "            v[i] = V[i](r[0],r[1])\n",
    "    if n_parametros==3: \n",
    "        for i in range(dim):\n",
    "            v[i] = V[i](r[0],r[1],r[2])\n",
    "            \n",
    "\n",
    "    return v\n",
    "\n"
   ]
  },
  {
   "cell_type": "markdown",
   "id": "6cdd78ed",
   "metadata": {},
   "source": [
    "# num de parametros"
   ]
  },
  {
   "cell_type": "code",
   "execution_count": 142,
   "id": "33799599",
   "metadata": {},
   "outputs": [
    {
     "data": {
      "text/plain": [
       "7"
      ]
     },
     "execution_count": 142,
     "metadata": {},
     "output_type": "execute_result"
    }
   ],
   "source": [
    "sig = signature(hola)\n",
    "str(sig).split(\", \")\n",
    "len(str(sig).split(\", \"))"
   ]
  },
  {
   "cell_type": "code",
   "execution_count": 152,
   "id": "9a6ef7b4",
   "metadata": {},
   "outputs": [],
   "source": [
    "def Jacobiano(f,r,h=1e-6):  #GetJacobian\n",
    "    sig = signature(f[1])\n",
    "    dim = len(f)\n",
    "    J = np.zeros((dim,dim))\n",
    "    n_parametros= len(str(sig).split(\", \"))\n",
    "    if n_parametros==2:\n",
    "        for i in range(dim):\n",
    "            J[i,0] = (  f[i](r[0]+h,r[1]) - f[i](r[0]-h,r[1]) )/(2*h)\n",
    "            J[i,1] = (  f[i](r[0],r[1]+h) - f[i](r[0],r[1]-h) )/(2*h)\n",
    "        \n",
    "    if n_parametros==3:\n",
    "        for i in range(dim):\n",
    "            J[i,0] = (  f[i](r[0]+h,r[1],r[2]) - f[i](r[0]-h,r[1],r[2]) )/(2*h)\n",
    "            J[i,1] = (  f[i](r[0],r[1]+h,r[2]) - f[i](r[0],r[1]-h,r[2]) )/(2*h)\n",
    "            J[i,2] = (  f[i](r[0],r[1],r[2]+h) - f[i](r[0],r[1],r[2]-h) )/(2*h)\n",
    "\n",
    "    return J.T\n",
    "\n"
   ]
  },
  {
   "cell_type": "code",
   "execution_count": 153,
   "id": "4f05764b",
   "metadata": {},
   "outputs": [],
   "source": [
    "def NewtonRaphson(G,r,error=1e-10):\n",
    "\n",
    "    iteraciones = 0\n",
    "    d = 1\n",
    "    Vector_d = np.array([])\n",
    "\n",
    "    while d > error:\n",
    "\n",
    "        iteraciones += 1\n",
    "\n",
    "        rc = r\n",
    "\n",
    "        F = Vector(G,r)\n",
    "        J = Jacobiano(G,r)\n",
    "        InvJ = np.linalg.inv(J)\n",
    "\n",
    "        r = rc - np.dot( InvJ, F )\n",
    "\n",
    "        diff = r - rc\n",
    "\n",
    "        d = np.linalg.norm(diff)\n",
    "\n",
    "        Vector_d = np.append( Vector_d , d )\n",
    "        \n",
    "        \n",
    "        \n",
    "   \n",
    "\n",
    "    return r,iteraciones,Vector_d\n",
    "\n",
    "\n",
    "\n"
   ]
  },
  {
   "cell_type": "code",
   "execution_count": 154,
   "id": "b7cec56f",
   "metadata": {},
   "outputs": [],
   "source": [
    "def GetMetric(G,r):\n",
    "    v = Vector(G,r)\n",
    "    return 0.5*np.linalg.norm(v)**2\n",
    "\n",
    "\n",
    "\n"
   ]
  },
  {
   "cell_type": "code",
   "execution_count": 155,
   "id": "31a5a675",
   "metadata": {},
   "outputs": [],
   "source": [
    "def Sol(G,r,lr=1e-3,epochs=int(1e5),error=1e-7):\n",
    "\n",
    "    d = 1\n",
    "    it = 0\n",
    "    Vector_F = np.array([])\n",
    "\n",
    "    R_vector = np.array(r)\n",
    "\n",
    "    while d > error and it < epochs:\n",
    "\n",
    "        CurrentF = GetMetric(G,r)\n",
    "\n",
    "        J = Jacobiano(G,r)\n",
    "\n",
    "        GVector = Vector(G,r)\n",
    "\n",
    "        r -= lr*np.dot(J,GVector)\n",
    "\n",
    "        R_vector = np.vstack((R_vector,r))\n",
    "\n",
    "        NewF = GetMetric(G,r)\n",
    "\n",
    "\n",
    "        Vector_F = np.append(Vector_F,NewF)\n",
    "\n",
    "        d = np.abs( CurrentF - NewF )/NewF\n",
    "\n",
    "        it += 1\n",
    "\n",
    "\n",
    "    return r,it,Vector_F,R_vector\n"
   ]
  },
  {
   "cell_type": "code",
   "execution_count": 156,
   "id": "cb4006b2",
   "metadata": {},
   "outputs": [
    {
     "name": "stdout",
     "output_type": "stream",
     "text": [
      "La solución con descenso del gradiente del primer sistema: [1.77245385 1.77245385]\n",
      "Iteraciones: 13218\n"
     ]
    }
   ],
   "source": [
    "\n",
    "xsol,it,F,R = Sol(G,[2,2],lr=1e-3)\n",
    "print(\"La solución con descenso del gradiente del primer sistema:\", xsol)\n",
    "print(\"Iteraciones:\", it)"
   ]
  },
  {
   "cell_type": "code",
   "execution_count": 157,
   "id": "56922be3",
   "metadata": {},
   "outputs": [
    {
     "name": "stdout",
     "output_type": "stream",
     "text": [
      "La solución con Newton-Raphson del primer sistema: [1.77245385 1.77245385]\n",
      "cantidad de iteraciones:  109\n"
     ]
    }
   ],
   "source": [
    "\n",
    "r,it,distancias = NewtonRaphson(G,[2,2])\n",
    "\n",
    "print(\"La solución con Newton-Raphson del primer sistema:\", r)\n",
    "print(\"cantidad de iteraciones: \", it)\n"
   ]
  },
  {
   "cell_type": "code",
   "execution_count": 158,
   "id": "667383bf",
   "metadata": {},
   "outputs": [],
   "source": [
    "H=(lambda x,y,z: 6*x-2*np.cos(y*z)-1, \\\n",
    "   lambda x,y,z: 9*y+np.sqrt(x**2+np.sin(z)+1.06)+0.9, \\\n",
    "   lambda x,y,z: 60*z+3*np.exp(-x*y)+10*np.pi-3)\n",
    "\n"
   ]
  },
  {
   "cell_type": "markdown",
   "id": "544ab738",
   "metadata": {},
   "source": [
    "# segunda parte "
   ]
  },
  {
   "cell_type": "code",
   "execution_count": 160,
   "id": "ad44f0c9",
   "metadata": {},
   "outputs": [
    {
     "name": "stdout",
     "output_type": "stream",
     "text": [
      "La solución con descenso del gradiente del segundo sistema: [ 0.49814468 -0.1996059  -0.52882598]\n",
      "Iteraciones: 8536\n"
     ]
    }
   ],
   "source": [
    "xsol,it,F,R = Sol(H,[0,0,0],lr=1e-4)\n",
    "print(\"La solución con descenso del gradiente del segundo sistema:\", xsol)\n",
    "print(\"Iteraciones:\", it)"
   ]
  },
  {
   "cell_type": "code",
   "execution_count": 167,
   "id": "f2552720",
   "metadata": {},
   "outputs": [
    {
     "name": "stdout",
     "output_type": "stream",
     "text": [
      "La solución con Newton-Raphson del segundo sistema: [ 0.49814468 -0.1996059  -0.52882598]\n"
     ]
    }
   ],
   "source": [
    "r,it,distancias = NewtonRaphson(H,[0,0,0])\n",
    "\n",
    "print(\"La solución con Newton-Raphson del segundo sistema:\", r)"
   ]
  },
  {
   "cell_type": "code",
   "execution_count": null,
   "id": "894a30a1",
   "metadata": {},
   "outputs": [],
   "source": []
  }
 ],
 "metadata": {
  "kernelspec": {
   "display_name": "Python 3 (ipykernel)",
   "language": "python",
   "name": "python3"
  },
  "language_info": {
   "codemirror_mode": {
    "name": "ipython",
    "version": 3
   },
   "file_extension": ".py",
   "mimetype": "text/x-python",
   "name": "python",
   "nbconvert_exporter": "python",
   "pygments_lexer": "ipython3",
   "version": "3.9.12"
  }
 },
 "nbformat": 4,
 "nbformat_minor": 5
}
