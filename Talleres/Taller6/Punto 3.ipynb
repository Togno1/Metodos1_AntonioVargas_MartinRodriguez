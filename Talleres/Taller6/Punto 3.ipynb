{
 "cells": [
  {
   "cell_type": "code",
   "execution_count": 11,
   "id": "314724ab",
   "metadata": {},
   "outputs": [],
   "source": [
    "import numpy as np"
   ]
  },
  {
   "cell_type": "code",
   "execution_count": 12,
   "id": "4e625149",
   "metadata": {},
   "outputs": [
    {
     "name": "stdout",
     "output_type": "stream",
     "text": [
      "[[ 1  0  0]\n",
      " [ 5  1  0]\n",
      " [-2  3  1]]\n",
      "[[ 4 -2  1]\n",
      " [ 0  3  7]\n",
      " [ 0  0  2]]\n"
     ]
    }
   ],
   "source": [
    "X = np.array([[1,0,0],[5,1,0],[-2,3,1]])\n",
    "Y = np.array([[4,-2,1],[0,3,7],[0,0,2]])\n",
    "print(X)\n",
    "print(Y)"
   ]
  },
  {
   "cell_type": "code",
   "execution_count": 13,
   "id": "d2b4a8ec",
   "metadata": {},
   "outputs": [],
   "source": [
    "def prod_matrnxn(X,Y,n):\n",
    "    prod = np.zeros((n,n))\n",
    "    for i in range(len(X)):\n",
    "        for j in range(len(X)):\n",
    "            sum_ = 0\n",
    "            for k in range(len(X)):\n",
    "                sum_ += X[i][k]*Y[k][j]\n",
    "            prod[i][j] = sum_\n",
    "    return prod"
   ]
  },
  {
   "cell_type": "code",
   "execution_count": 14,
   "id": "89d9a57c",
   "metadata": {},
   "outputs": [
    {
     "data": {
      "text/plain": [
       "array([[ 4., -2.,  1.],\n",
       "       [20., -7., 12.],\n",
       "       [-8., 13., 21.]])"
      ]
     },
     "execution_count": 14,
     "metadata": {},
     "output_type": "execute_result"
    }
   ],
   "source": [
    "prod_matrnxn(X,Y,3)"
   ]
  }
 ],
 "metadata": {
  "kernelspec": {
   "display_name": "Python 3",
   "language": "python",
   "name": "python3"
  },
  "language_info": {
   "codemirror_mode": {
    "name": "ipython",
    "version": 3
   },
   "file_extension": ".py",
   "mimetype": "text/x-python",
   "name": "python",
   "nbconvert_exporter": "python",
   "pygments_lexer": "ipython3",
   "version": "3.8.8"
  }
 },
 "nbformat": 4,
 "nbformat_minor": 5
}
